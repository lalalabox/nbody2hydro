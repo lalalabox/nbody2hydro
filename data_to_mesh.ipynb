{
 "cells": [
  {
   "cell_type": "markdown",
   "id": "eea6cb94-2190-47a0-81f5-1fc334760c1c",
   "metadata": {},
   "source": [
    "**Data to mesh**   \n",
    "Using `nbodykit` to put data on the mesh ([see Painting a Catalog to a Mesh](https://nbodykit.readthedocs.io/en/latest/cookbook/painting.html))\n",
    "1. read TNG-50 data into memory, convert to nbodykit.catalog\n",
    "   1. Particle snapshot\n",
    "   2. subhalo group catalog\n",
    "2. put all of properties on mesh, including `pos, vel, sfr, etc.`\n",
    "   1. use `Value` parameter of `to_mesh()` to specify the property\n",
    "   2. use default setting to get the particle number in each cell"
   ]
  },
  {
   "cell_type": "code",
   "execution_count": 2,
   "id": "dce79d09-df61-47e9-88ea-038d2360add2",
   "metadata": {
    "execution": {
     "iopub.execute_input": "2021-09-27T10:12:25.821570Z",
     "iopub.status.busy": "2021-09-27T10:12:25.821254Z",
     "iopub.status.idle": "2021-09-27T10:12:28.383202Z",
     "shell.execute_reply": "2021-09-27T10:12:28.381324Z",
     "shell.execute_reply.started": "2021-09-27T10:12:25.821541Z"
    },
    "tags": []
   },
   "outputs": [],
   "source": [
    "import pandas as pd\n",
    "import itertools\n",
    "import numpy as np\n",
    "import matplotlib.pyplot as plt\n",
    "import pyarrow.feather as feather\n",
    "from nbodykit.source.catalog import ArrayCatalog"
   ]
  },
  {
   "cell_type": "code",
   "execution_count": 3,
   "id": "103025c0-b39f-4f38-89e1-ff01100d4e08",
   "metadata": {
    "execution": {
     "iopub.execute_input": "2021-09-27T10:12:28.772666Z",
     "iopub.status.busy": "2021-09-27T10:12:28.772377Z",
     "iopub.status.idle": "2021-09-27T10:12:28.781919Z",
     "shell.execute_reply": "2021-09-27T10:12:28.780776Z",
     "shell.execute_reply.started": "2021-09-27T10:12:28.772627Z"
    },
    "tags": []
   },
   "outputs": [],
   "source": [
    "'''import illustris_python package   \n",
    "https://www.tng-project.org/data/docs/scripts/\n",
    "'''\n",
    "import os\n",
    "HOME = os.path.expandvars('$HOME')\n",
    "illustris_python_path = HOME+'/data/mydata/TNG'\n",
    "if illustris_python_path not in os.sys.path:\n",
    "    os.sys.path.append(illustris_python_path)\n",
    "#     os.sys.path.insert(0,illustris_python_path)\n",
    "# print(f'Our python package path is \\n{os.sys.path}')\n",
    "import illustris_python as ill"
   ]
  },
  {
   "cell_type": "markdown",
   "id": "7ccf8cae-208e-43e3-a23c-de7a7b7758f2",
   "metadata": {},
   "source": [
    "# Read data"
   ]
  },
  {
   "cell_type": "markdown",
   "id": "17413e6e-1f85-4854-9aa3-4cf33dcb89d9",
   "metadata": {},
   "source": [
    "## particle snapshot"
   ]
  },
  {
   "cell_type": "code",
   "execution_count": 16,
   "id": "8626dfbc-18d1-4c90-b2a0-9a3de60d6331",
   "metadata": {
    "execution": {
     "iopub.execute_input": "2021-09-10T08:06:42.752624Z",
     "iopub.status.busy": "2021-09-10T08:06:42.752362Z",
     "iopub.status.idle": "2021-09-10T08:14:21.048535Z",
     "shell.execute_reply": "2021-09-10T08:14:21.047599Z",
     "shell.execute_reply.started": "2021-09-10T08:06:42.752595Z"
    }
   },
   "outputs": [],
   "source": [
    "# TNG-50-2-dark\n",
    "basePath = HOME + '/data/mydata/TNG/TNG50/TNG-50-2-dark/output/'\n",
    "\n",
    "snapshot_z0 = ill.snapshot.loadSubset(basePath,99,1)  # redshift=0\n",
    "# snapshot_z10 = ill.snapshot.loadSubset(basePath,4,1)  # redshift=10"
   ]
  },
  {
   "cell_type": "code",
   "execution_count": 65,
   "id": "c1e4ea44-bf15-451d-8489-7f013c3e77a7",
   "metadata": {
    "execution": {
     "iopub.execute_input": "2021-09-26T15:31:25.934633Z",
     "iopub.status.busy": "2021-09-26T15:31:25.933957Z",
     "iopub.status.idle": "2021-09-26T15:37:10.765662Z",
     "shell.execute_reply": "2021-09-26T15:37:10.763921Z",
     "shell.execute_reply.started": "2021-09-26T15:31:25.934587Z"
    },
    "tags": []
   },
   "outputs": [],
   "source": [
    "# TNG-50-2-hydro\n",
    "basePath = HOME + '/data/mydata/TNG/TNG50/TNG-50-2-hydro/output/'\n",
    "\n",
    "dm_snap = ill.snapshot.loadSubset(basePath,99,1)  # redshift=0\n",
    "# snapshot_z10 = ill.snapshot.loadSubset(basePath,4,1)  # redshift=10"
   ]
  },
  {
   "cell_type": "code",
   "execution_count": 67,
   "id": "7915680e-064c-4f3b-b3f0-8c694dc4151f",
   "metadata": {
    "execution": {
     "iopub.execute_input": "2021-09-26T15:47:18.383157Z",
     "iopub.status.busy": "2021-09-26T15:47:18.382568Z",
     "iopub.status.idle": "2021-09-26T15:47:18.390255Z",
     "shell.execute_reply": "2021-09-26T15:47:18.389322Z",
     "shell.execute_reply.started": "2021-09-26T15:47:18.383116Z"
    },
    "tags": []
   },
   "outputs": [
    {
     "data": {
      "text/plain": [
       "dict_keys(['count', 'Coordinates', 'ParticleIDs', 'Potential', 'SubfindDMDensity', 'SubfindDensity', 'SubfindHsml', 'SubfindVelDisp', 'TimeStep', 'Velocities'])"
      ]
     },
     "execution_count": 67,
     "metadata": {},
     "output_type": "execute_result"
    }
   ],
   "source": [
    "dm_snap.keys()"
   ]
  },
  {
   "cell_type": "code",
   "execution_count": 68,
   "id": "505abd38-42ce-42fc-afe3-3b8bdbe09668",
   "metadata": {
    "execution": {
     "iopub.execute_input": "2021-09-26T15:47:38.909508Z",
     "iopub.status.busy": "2021-09-26T15:47:38.909282Z",
     "iopub.status.idle": "2021-09-26T15:47:38.923339Z",
     "shell.execute_reply": "2021-09-26T15:47:38.922285Z",
     "shell.execute_reply.started": "2021-09-26T15:47:38.909477Z"
    },
    "tags": []
   },
   "outputs": [
    {
     "name": "stdout",
     "output_type": "stream",
     "text": [
      "{'Coordinates': array([[ 7320.39676777, 24545.04553257, 21301.74215301],\n",
      "       [ 7320.01962762, 24545.88253606, 21301.71631082],\n",
      "       [ 7319.81212296, 24545.25298931, 21301.91002368],\n",
      "       ...,\n",
      "       [32836.0590797 , 25953.79405423, 22999.23007054],\n",
      "       [34794.2985683 , 30541.40202619, 15992.23971021],\n",
      "       [29811.47034951, 30297.504004  ,  2659.52467427]]),\n",
      " 'ParticleIDs': array([ 246453549,  274619053,  246428269, ..., 1259711990, 1259711996,\n",
      "       1259712000], dtype=uint64),\n",
      " 'Potential': array([-4624486.5  , -4536184.   , -4547894.5  , ...,   -27773.215,\n",
      "         -79828.4  ,    27167.354], dtype=float32),\n",
      " 'SubfindDMDensity': array([1.15510151e-01, 9.95031297e-02, 1.16043046e-01, ...,\n",
      "       3.14974287e-08, 1.50130916e-07, 3.37779625e-07], dtype=float32),\n",
      " 'SubfindDensity': array([8.6006460e+00, 3.6029549e+00, 2.3927383e+00, ..., 3.1499440e-08,\n",
      "       1.5384360e-07, 3.6721076e-07], dtype=float32),\n",
      " 'SubfindHsml': array([ 0.3169    ,  0.32095408,  0.33131453, ..., 46.67516   ,\n",
      "       27.436832  , 23.056698  ], dtype=float32),\n",
      " 'SubfindVelDisp': array([1127.373   ,  999.06177 , 1017.88556 , ...,   31.434978,\n",
      "         56.29528 ,   59.8252  ], dtype=float32),\n",
      " 'TimeStep': array([0., 0., 0., ..., 0., 0., 0.], dtype=float32),\n",
      " 'Velocities': array([[  -2.7240336, -130.2376   ,  194.83424  ],\n",
      "       [ -57.51944  ,  -87.426674 , -156.27171  ],\n",
      "       [  11.053613 ,  148.86075  ,  193.4626   ],\n",
      "       ...,\n",
      "       [ 125.857414 ,   54.307476 , -122.71429  ],\n",
      "       [ 157.36804  ,   -8.883937 ,   -9.681094 ],\n",
      "       [-113.55126  ,  -31.858885 ,  113.44053  ]], dtype=float32),\n",
      " 'count': 1259712000}\n"
     ]
    }
   ],
   "source": [
    "pprint(dm_snap)"
   ]
  },
  {
   "cell_type": "markdown",
   "id": "32ed42d6-ffe5-41e0-8bc5-a7e86906d47f",
   "metadata": {},
   "source": [
    "### convert to catalog"
   ]
  },
  {
   "cell_type": "code",
   "execution_count": 87,
   "id": "5228cd13-0d62-444b-bef7-b8aefff1dee2",
   "metadata": {
    "execution": {
     "iopub.execute_input": "2021-09-27T02:18:59.245878Z",
     "iopub.status.busy": "2021-09-27T02:18:59.245641Z",
     "iopub.status.idle": "2021-09-27T02:23:53.959897Z",
     "shell.execute_reply": "2021-09-27T02:23:53.958242Z",
     "shell.execute_reply.started": "2021-09-27T02:18:59.245851Z"
    },
    "tags": []
   },
   "outputs": [],
   "source": [
    "xyz_dict = {0: 'x', 1: 'y', 2: 'z'}\n",
    "\n",
    "dm_df = pd.DataFrame()\n",
    "for i in range(3):\n",
    "    dm_df[xyz_dict[i]] = dm_snap['Coordinates'][:,i]\n",
    "for i in range(3):\n",
    "    dm_df['v'+xyz_dict[i]] = dm_snap['Velocities'][:,i]"
   ]
  },
  {
   "cell_type": "code",
   "execution_count": 89,
   "id": "170f60f6-5d1b-49d0-8f5e-8a874e8ccd1e",
   "metadata": {
    "execution": {
     "iopub.execute_input": "2021-09-27T02:24:49.832736Z",
     "iopub.status.busy": "2021-09-27T02:24:49.832501Z",
     "iopub.status.idle": "2021-09-27T02:24:49.845047Z",
     "shell.execute_reply": "2021-09-27T02:24:49.844175Z",
     "shell.execute_reply.started": "2021-09-27T02:24:49.832708Z"
    },
    "tags": []
   },
   "outputs": [
    {
     "data": {
      "text/html": [
       "<div>\n",
       "<style scoped>\n",
       "    .dataframe tbody tr th:only-of-type {\n",
       "        vertical-align: middle;\n",
       "    }\n",
       "\n",
       "    .dataframe tbody tr th {\n",
       "        vertical-align: top;\n",
       "    }\n",
       "\n",
       "    .dataframe thead th {\n",
       "        text-align: right;\n",
       "    }\n",
       "</style>\n",
       "<table border=\"1\" class=\"dataframe\">\n",
       "  <thead>\n",
       "    <tr style=\"text-align: right;\">\n",
       "      <th></th>\n",
       "      <th>x</th>\n",
       "      <th>y</th>\n",
       "      <th>z</th>\n",
       "      <th>vx</th>\n",
       "      <th>vy</th>\n",
       "      <th>vz</th>\n",
       "    </tr>\n",
       "  </thead>\n",
       "  <tbody>\n",
       "    <tr>\n",
       "      <th>0</th>\n",
       "      <td>7320.396768</td>\n",
       "      <td>24545.045533</td>\n",
       "      <td>21301.742153</td>\n",
       "      <td>-2.724034</td>\n",
       "      <td>-130.237595</td>\n",
       "      <td>194.834244</td>\n",
       "    </tr>\n",
       "    <tr>\n",
       "      <th>1</th>\n",
       "      <td>7320.019628</td>\n",
       "      <td>24545.882536</td>\n",
       "      <td>21301.716311</td>\n",
       "      <td>-57.519440</td>\n",
       "      <td>-87.426674</td>\n",
       "      <td>-156.271713</td>\n",
       "    </tr>\n",
       "    <tr>\n",
       "      <th>2</th>\n",
       "      <td>7319.812123</td>\n",
       "      <td>24545.252989</td>\n",
       "      <td>21301.910024</td>\n",
       "      <td>11.053613</td>\n",
       "      <td>148.860748</td>\n",
       "      <td>193.462601</td>\n",
       "    </tr>\n",
       "    <tr>\n",
       "      <th>3</th>\n",
       "      <td>7320.773122</td>\n",
       "      <td>24545.727954</td>\n",
       "      <td>21301.824647</td>\n",
       "      <td>40.403690</td>\n",
       "      <td>146.931046</td>\n",
       "      <td>-175.367508</td>\n",
       "    </tr>\n",
       "    <tr>\n",
       "      <th>4</th>\n",
       "      <td>7319.902249</td>\n",
       "      <td>24545.577239</td>\n",
       "      <td>21301.963429</td>\n",
       "      <td>-352.747528</td>\n",
       "      <td>-20.196817</td>\n",
       "      <td>92.991341</td>\n",
       "    </tr>\n",
       "  </tbody>\n",
       "</table>\n",
       "</div>"
      ],
      "text/plain": [
       "             x             y             z          vx          vy          vz\n",
       "0  7320.396768  24545.045533  21301.742153   -2.724034 -130.237595  194.834244\n",
       "1  7320.019628  24545.882536  21301.716311  -57.519440  -87.426674 -156.271713\n",
       "2  7319.812123  24545.252989  21301.910024   11.053613  148.860748  193.462601\n",
       "3  7320.773122  24545.727954  21301.824647   40.403690  146.931046 -175.367508\n",
       "4  7319.902249  24545.577239  21301.963429 -352.747528  -20.196817   92.991341"
      ]
     },
     "execution_count": 89,
     "metadata": {},
     "output_type": "execute_result"
    }
   ],
   "source": [
    "dm_df[:5]"
   ]
  },
  {
   "cell_type": "markdown",
   "id": "4b57dbf0-f801-4a80-bef5-6d15caf205f2",
   "metadata": {},
   "source": [
    "### save and load"
   ]
  },
  {
   "cell_type": "code",
   "execution_count": 90,
   "id": "d77ab1a8-f7b5-4193-ac4c-f799189efbc0",
   "metadata": {
    "execution": {
     "iopub.execute_input": "2021-09-27T02:25:24.858818Z",
     "iopub.status.busy": "2021-09-27T02:25:24.858285Z",
     "iopub.status.idle": "2021-09-27T02:27:15.491605Z",
     "shell.execute_reply": "2021-09-27T02:27:15.490551Z",
     "shell.execute_reply.started": "2021-09-27T02:25:24.858783Z"
    },
    "tags": []
   },
   "outputs": [],
   "source": [
    "# save to disk\n",
    "import pyarrow.feather as feather\n",
    "feather.write_feather(dm_df, \"./tmp_save/TNG-50-hydro-z0-dm-snap.df.feather\")"
   ]
  },
  {
   "cell_type": "code",
   "execution_count": 47,
   "id": "e6eef1da-0c81-46b0-9e24-9791e97c3955",
   "metadata": {
    "execution": {
     "iopub.execute_input": "2021-09-27T13:36:04.345409Z",
     "iopub.status.busy": "2021-09-27T13:36:04.345138Z",
     "iopub.status.idle": "2021-09-27T13:36:46.466525Z",
     "shell.execute_reply": "2021-09-27T13:36:46.464196Z",
     "shell.execute_reply.started": "2021-09-27T13:36:04.345367Z"
    },
    "tags": []
   },
   "outputs": [],
   "source": [
    "# read from disk\n",
    "import pyarrow.feather as feather\n",
    "dm_df = feather.read_feather(\"./tmp_save/TNG-50-hydro-z0-dm-snap.df.feather\")"
   ]
  },
  {
   "cell_type": "markdown",
   "id": "caa6de67-72ec-4bd8-be76-ad235a79c96f",
   "metadata": {},
   "source": [
    "## subhalo Dataframe"
   ]
  },
  {
   "cell_type": "code",
   "execution_count": 15,
   "id": "f990e934-f3f3-41ae-b3bc-fa178a7ba8e4",
   "metadata": {
    "execution": {
     "iopub.execute_input": "2021-09-26T12:54:53.649577Z",
     "iopub.status.busy": "2021-09-26T12:54:53.649363Z",
     "iopub.status.idle": "2021-09-26T12:54:59.358144Z",
     "shell.execute_reply": "2021-09-26T12:54:59.357326Z",
     "shell.execute_reply.started": "2021-09-26T12:54:53.649549Z"
    },
    "tags": []
   },
   "outputs": [],
   "source": [
    "# read data\n",
    "subhalos_hydro = ill.groupcat.loadSubhalos(HOME + '/data/mydata/TNG/TNG50/TNG-50-2-hydro/output/',99)"
   ]
  },
  {
   "cell_type": "code",
   "execution_count": 24,
   "id": "2944f416-778c-46e3-9ed3-66c6ad3a6574",
   "metadata": {
    "collapsed": true,
    "execution": {
     "iopub.execute_input": "2021-09-26T13:01:24.440189Z",
     "iopub.status.busy": "2021-09-26T13:01:24.439995Z",
     "iopub.status.idle": "2021-09-26T13:01:24.494152Z",
     "shell.execute_reply": "2021-09-26T13:01:24.493606Z",
     "shell.execute_reply.started": "2021-09-26T13:01:24.440164Z"
    },
    "jupyter": {
     "outputs_hidden": true
    },
    "tags": []
   },
   "outputs": [
    {
     "name": "stdout",
     "output_type": "stream",
     "text": [
      "{'SubhaloBHMass': array([0.634181  , 0.06940398, 0.02797915, ..., 0.        , 0.        ,\n",
      "       0.        ], dtype=float32),\n",
      " 'SubhaloBHMdot': array([3.2096318e-04, 9.9187639e-07, 5.6528893e-07, ..., 0.0000000e+00,\n",
      "       0.0000000e+00, 0.0000000e+00], dtype=float32),\n",
      " 'SubhaloBfldDisk': array([       nan, 0.0030731 , 0.01179466, ..., 0.        , 0.        ,\n",
      "       0.        ], dtype=float32),\n",
      " 'SubhaloBfldHalo': array([       nan, 0.00296467,        nan, ..., 0.        , 0.        ,\n",
      "       0.        ], dtype=float32),\n",
      " 'SubhaloCM': array([[ 7306.127, 24514.201, 21300.219],\n",
      "       [ 6787.99 , 24963.754, 21290.572],\n",
      "       [ 6801.077, 23897.215, 21114.092],\n",
      "       ...,\n",
      "       [29618.752, 10851.206, 31429.012],\n",
      "       [34581.844, 29245.979, 22194.63 ],\n",
      "       [34739.92 , 21071.766, 11411.112]], dtype=float32),\n",
      " 'SubhaloFlag': array([ True,  True,  True, ...,  True,  True,  True]),\n",
      " 'SubhaloGasMetalFractions': array([[7.4533314e-01, 2.4755955e-01, 7.4985268e-04, ..., 3.3060214e-04,\n",
      "        5.2123086e-04, 2.5232267e-04],\n",
      "       [7.2297442e-01, 2.5737646e-01, 1.6579329e-03, ..., 1.1040259e-03,\n",
      "        2.8414153e-03, 1.1844793e-03],\n",
      "       [7.1575713e-01, 2.6180893e-01, 1.9093892e-03, ..., 1.2419791e-03,\n",
      "        3.1573426e-03, 1.3167487e-03],\n",
      "       ...,\n",
      "       [0.0000000e+00, 0.0000000e+00, 0.0000000e+00, ..., 0.0000000e+00,\n",
      "        0.0000000e+00, 0.0000000e+00],\n",
      "       [0.0000000e+00, 0.0000000e+00, 0.0000000e+00, ..., 0.0000000e+00,\n",
      "        0.0000000e+00, 0.0000000e+00],\n",
      "       [0.0000000e+00, 0.0000000e+00, 0.0000000e+00, ..., 0.0000000e+00,\n",
      "        0.0000000e+00, 0.0000000e+00]], dtype=float32),\n",
      " 'SubhaloGasMetalFractionsHalfRad': array([[7.4425513e-01, 2.4810179e-01, 7.9918251e-04, ..., 3.5907593e-04,\n",
      "        5.9050694e-04, 2.8139565e-04],\n",
      "       [7.2719830e-01, 2.5544769e-01, 1.4760310e-03, ..., 9.6913887e-04,\n",
      "        2.4638802e-03, 1.0304520e-03],\n",
      "       [7.1346068e-01, 2.6267710e-01, 2.0371482e-03, ..., 1.3167695e-03,\n",
      "        3.3315315e-03, 1.3907561e-03],\n",
      "       ...,\n",
      "       [0.0000000e+00, 0.0000000e+00, 0.0000000e+00, ..., 0.0000000e+00,\n",
      "        0.0000000e+00, 0.0000000e+00],\n",
      "       [0.0000000e+00, 0.0000000e+00, 0.0000000e+00, ..., 0.0000000e+00,\n",
      "        0.0000000e+00, 0.0000000e+00],\n",
      "       [0.0000000e+00, 0.0000000e+00, 0.0000000e+00, ..., 0.0000000e+00,\n",
      "        0.0000000e+00, 0.0000000e+00]], dtype=float32),\n",
      " 'SubhaloGasMetalFractionsMaxRad': array([[7.4765694e-01, 2.4637641e-01, 6.3921564e-04, ..., 2.7275525e-04,\n",
      "        3.9939125e-04, 1.9885045e-04],\n",
      "       [7.2827190e-01, 2.5502270e-01, 1.4234240e-03, ..., 9.3152537e-04,\n",
      "        2.3582191e-03, 9.8756969e-04],\n",
      "       [7.1509624e-01, 2.6205182e-01, 1.9506956e-03, ..., 1.2619908e-03,\n",
      "        3.1949186e-03, 1.3336779e-03],\n",
      "       ...,\n",
      "       [0.0000000e+00, 0.0000000e+00, 0.0000000e+00, ..., 0.0000000e+00,\n",
      "        0.0000000e+00, 0.0000000e+00],\n",
      "       [0.0000000e+00, 0.0000000e+00, 0.0000000e+00, ..., 0.0000000e+00,\n",
      "        0.0000000e+00, 0.0000000e+00],\n",
      "       [0.0000000e+00, 0.0000000e+00, 0.0000000e+00, ..., 0.0000000e+00,\n",
      "        0.0000000e+00, 0.0000000e+00]], dtype=float32),\n",
      " 'SubhaloGasMetalFractionsSfr': array([[7.4781322e-01, 2.4592146e-01, 6.1679241e-04, ..., 2.8428508e-04,\n",
      "        3.4009968e-04, 1.8712382e-04],\n",
      "       [0.0000000e+00, 0.0000000e+00, 0.0000000e+00, ..., 0.0000000e+00,\n",
      "        0.0000000e+00, 0.0000000e+00],\n",
      "       [0.0000000e+00, 0.0000000e+00, 0.0000000e+00, ..., 0.0000000e+00,\n",
      "        0.0000000e+00, 0.0000000e+00],\n",
      "       ...,\n",
      "       [0.0000000e+00, 0.0000000e+00, 0.0000000e+00, ..., 0.0000000e+00,\n",
      "        0.0000000e+00, 0.0000000e+00],\n",
      "       [0.0000000e+00, 0.0000000e+00, 0.0000000e+00, ..., 0.0000000e+00,\n",
      "        0.0000000e+00, 0.0000000e+00],\n",
      "       [0.0000000e+00, 0.0000000e+00, 0.0000000e+00, ..., 0.0000000e+00,\n",
      "        0.0000000e+00, 0.0000000e+00]], dtype=float32),\n",
      " 'SubhaloGasMetalFractionsSfrWeighted': array([[7.4718606e-01, 2.4624754e-01, 6.5340649e-04, ..., 2.9710255e-04,\n",
      "        3.6238183e-04, 1.9713494e-04],\n",
      "       [0.0000000e+00, 0.0000000e+00, 0.0000000e+00, ..., 0.0000000e+00,\n",
      "        0.0000000e+00, 0.0000000e+00],\n",
      "       [0.0000000e+00, 0.0000000e+00, 0.0000000e+00, ..., 0.0000000e+00,\n",
      "        0.0000000e+00, 0.0000000e+00],\n",
      "       ...,\n",
      "       [0.0000000e+00, 0.0000000e+00, 0.0000000e+00, ..., 0.0000000e+00,\n",
      "        0.0000000e+00, 0.0000000e+00],\n",
      "       [0.0000000e+00, 0.0000000e+00, 0.0000000e+00, ..., 0.0000000e+00,\n",
      "        0.0000000e+00, 0.0000000e+00],\n",
      "       [0.0000000e+00, 0.0000000e+00, 0.0000000e+00, ..., 0.0000000e+00,\n",
      "        0.0000000e+00, 0.0000000e+00]], dtype=float32),\n",
      " 'SubhaloGasMetallicity': array([0.00710731, 0.01964911, 0.02243395, ..., 0.        , 0.        ,\n",
      "       0.        ], dtype=float32),\n",
      " 'SubhaloGasMetallicityHalfRad': array([0.00764307, 0.01735399, 0.02386219, ..., 0.        , 0.        ,\n",
      "       0.        ], dtype=float32),\n",
      " 'SubhaloGasMetallicityMaxRad': array([0.00596665, 0.01670541, 0.02285194, ..., 0.        , 0.        ,\n",
      "       0.        ], dtype=float32),\n",
      " 'SubhaloGasMetallicitySfr': array([0.00626532, 0.        , 0.        , ..., 0.        , 0.        ,\n",
      "       0.        ], dtype=float32),\n",
      " 'SubhaloGasMetallicitySfrWeighted': array([0.0065664, 0.       , 0.       , ..., 0.       , 0.       ,\n",
      "       0.       ], dtype=float32),\n",
      " 'SubhaloGrNr': array([      0,       0,       0, ..., 1316265, 1316266, 1316271],\n",
      "      dtype=int32),\n",
      " 'SubhaloHalfmassRad': array([379.08096  ,  35.449234 ,  60.253105 , ...,   4.5084887,\n",
      "         2.752552 ,   2.6977153], dtype=float32),\n",
      " 'SubhaloHalfmassRadType': array([[379.44556  , 386.29678  ,   0.       ,   0.       ,  34.708405 ,\n",
      "          0.       ],\n",
      "       [  9.898374 ,  39.496895 ,   0.       ,   0.       ,   7.4104133,\n",
      "          0.       ],\n",
      "       [ 72.36762  ,  65.04556  ,   0.       ,   0.       ,   7.123074 ,\n",
      "          0.       ],\n",
      "       ...,\n",
      "       [  0.       ,   4.5084887,   0.       ,   0.       ,   0.       ,\n",
      "          0.       ],\n",
      "       [  0.       ,   2.752552 ,   0.       ,   0.       ,   0.       ,\n",
      "          0.       ],\n",
      "       [  0.       ,   2.6977153,   0.       ,   0.       ,   0.       ,\n",
      "          0.       ]], dtype=float32),\n",
      " 'SubhaloIDMostbound': array([104406455700, 102157993474, 102631369210, ...,   1259553887,\n",
      "         1258652213,   1259485547], dtype=uint64),\n",
      " 'SubhaloLen': array([90409663,  1084233,   876255, ...,       30,       31,       31],\n",
      "      dtype=int32),\n",
      " 'SubhaloLenType': array([[36026275, 47469006,        0,        0,  6914380,        2],\n",
      "       [      80,   547637,        0,        0,   536515,        1],\n",
      "       [    1268,   567144,        0,        0,   307842,        1],\n",
      "       ...,\n",
      "       [       0,       30,        0,        0,        0,        0],\n",
      "       [       0,       31,        0,        0,        0,        0],\n",
      "       [       0,       31,        0,        0,        0,        0]],\n",
      "      dtype=int32),\n",
      " 'SubhaloMass': array([1.3647272e+04, 1.5101700e+02, 1.4907187e+02, ..., 7.3768250e-03,\n",
      "       7.6227193e-03, 7.6227193e-03], dtype=float32),\n",
      " 'SubhaloMassInHalfRad': array([375.25    ,  16.70372 ,  10.521099, ...,   0.      ,   0.      ,\n",
      "         0.      ], dtype=float32),\n",
      " 'SubhaloMassInHalfRadType': array([[6.1994681e+00, 2.6233734e+02, 0.0000000e+00, 0.0000000e+00,\n",
      "        1.0607919e+02, 6.3399422e-01],\n",
      "       [1.8397848e-03, 8.4919548e+00, 0.0000000e+00, 0.0000000e+00,\n",
      "        8.1405220e+00, 6.9403976e-02],\n",
      "       [2.6258056e-03, 5.7337604e+00, 0.0000000e+00, 0.0000000e+00,\n",
      "        4.7567339e+00, 2.7979154e-02],\n",
      "       ...,\n",
      "       [0.0000000e+00, 0.0000000e+00, 0.0000000e+00, 0.0000000e+00,\n",
      "        0.0000000e+00, 0.0000000e+00],\n",
      "       [0.0000000e+00, 0.0000000e+00, 0.0000000e+00, 0.0000000e+00,\n",
      "        0.0000000e+00, 0.0000000e+00],\n",
      "       [0.0000000e+00, 0.0000000e+00, 0.0000000e+00, 0.0000000e+00,\n",
      "        0.0000000e+00, 0.0000000e+00]], dtype=float32),\n",
      " 'SubhaloMassInMaxRad': array([5.42879297e+03, 4.83820963e+00, 1.51621685e+01, ...,\n",
      "       4.18020086e-03, 2.95073004e-03, 4.18020086e-03], dtype=float32),\n",
      " 'SubhaloMassInMaxRadType': array([[6.6446478e+02, 4.5670571e+03, 0.0000000e+00, 0.0000000e+00,\n",
      "        1.9663712e+02, 6.3418102e-01],\n",
      "       [6.4855434e-05, 1.0044776e+00, 0.0000000e+00, 0.0000000e+00,\n",
      "        3.7642632e+00, 6.9403976e-02],\n",
      "       [4.9176393e-03, 9.1954584e+00, 0.0000000e+00, 0.0000000e+00,\n",
      "        5.9338131e+00, 2.7979154e-02],\n",
      "       ...,\n",
      "       [0.0000000e+00, 4.1802009e-03, 0.0000000e+00, 0.0000000e+00,\n",
      "        0.0000000e+00, 0.0000000e+00],\n",
      "       [0.0000000e+00, 2.9507300e-03, 0.0000000e+00, 0.0000000e+00,\n",
      "        0.0000000e+00, 0.0000000e+00],\n",
      "       [0.0000000e+00, 4.1802009e-03, 0.0000000e+00, 0.0000000e+00,\n",
      "        0.0000000e+00, 0.0000000e+00]], dtype=float32),\n",
      " 'SubhaloMassInRad': array([963.3446  ,  33.034317,  20.849936, ...,   0.      ,   0.      ,\n",
      "         0.      ], dtype=float32),\n",
      " 'SubhaloMassInRadType': array([[3.7236141e+01, 7.8209814e+02, 0.0000000e+00, 0.0000000e+00,\n",
      "        1.4337637e+02, 6.3399422e-01],\n",
      "       [4.5195422e-03, 2.1935480e+01, 0.0000000e+00, 0.0000000e+00,\n",
      "        1.1024912e+01, 6.9403976e-02],\n",
      "       [7.0375386e-03, 1.3921790e+01, 0.0000000e+00, 0.0000000e+00,\n",
      "        6.8931284e+00, 2.7979154e-02],\n",
      "       ...,\n",
      "       [0.0000000e+00, 0.0000000e+00, 0.0000000e+00, 0.0000000e+00,\n",
      "        0.0000000e+00, 0.0000000e+00],\n",
      "       [0.0000000e+00, 0.0000000e+00, 0.0000000e+00, 0.0000000e+00,\n",
      "        0.0000000e+00, 0.0000000e+00],\n",
      "       [0.0000000e+00, 0.0000000e+00, 0.0000000e+00, 0.0000000e+00,\n",
      "        0.0000000e+00, 0.0000000e+00]], dtype=float32),\n",
      " 'SubhaloMassType': array([[1.7621281e+03, 1.1672352e+04, 0.0000000e+00, 0.0000000e+00,\n",
      "        2.1215845e+02, 6.3418102e-01],\n",
      "       [5.7692039e-03, 1.3466075e+02, 0.0000000e+00, 0.0000000e+00,\n",
      "        1.6281075e+01, 6.9403976e-02],\n",
      "       [7.2993383e-02, 1.3945740e+02, 0.0000000e+00, 0.0000000e+00,\n",
      "        9.5134964e+00, 2.7979154e-02],\n",
      "       ...,\n",
      "       [0.0000000e+00, 7.3768250e-03, 0.0000000e+00, 0.0000000e+00,\n",
      "        0.0000000e+00, 0.0000000e+00],\n",
      "       [0.0000000e+00, 7.6227193e-03, 0.0000000e+00, 0.0000000e+00,\n",
      "        0.0000000e+00, 0.0000000e+00],\n",
      "       [0.0000000e+00, 7.6227193e-03, 0.0000000e+00, 0.0000000e+00,\n",
      "        0.0000000e+00, 0.0000000e+00]], dtype=float32),\n",
      " 'SubhaloParent': array([0, 0, 0, ..., 0, 0, 0], dtype=int32),\n",
      " 'SubhaloPos': array([[ 7320.264 , 24545.36  , 21301.7   ],\n",
      "       [ 6787.4624, 24964.396 , 21290.254 ],\n",
      "       [ 6794.6924, 23893.287 , 21114.664 ],\n",
      "       ...,\n",
      "       [29617.781 , 10851.798 , 31429.506 ],\n",
      "       [34581.08  , 29246.082 , 22194.9   ],\n",
      "       [34740.19  , 21072.854 , 11411.922 ]], dtype=float32),\n",
      " 'SubhaloSFR': array([0.12428914, 0.        , 0.        , ..., 0.        , 0.        ,\n",
      "       0.        ], dtype=float32),\n",
      " 'SubhaloSFRinHalfRad': array([0.03918723, 0.        , 0.        , ..., 0.        , 0.        ,\n",
      "       0.        ], dtype=float32),\n",
      " 'SubhaloSFRinMaxRad': array([0.1000022, 0.       , 0.       , ..., 0.       , 0.       ,\n",
      "       0.       ], dtype=float32),\n",
      " 'SubhaloSFRinRad': array([0.03918723, 0.        , 0.        , ..., 0.        , 0.        ,\n",
      "       0.        ], dtype=float32),\n",
      " 'SubhaloSpin': array([[-1.4494320e+04,  1.7560828e+04, -8.6643867e+03],\n",
      "       [ 5.9601099e+02, -7.0507965e+02,  1.7645125e+02],\n",
      "       [-1.3620587e+03,  7.3580133e+02, -9.0984686e+02],\n",
      "       ...,\n",
      "       [-2.1077953e-01, -1.8925316e+00,  4.9078131e+00],\n",
      "       [-2.5010211e+00,  4.4229147e-01,  3.6075485e+00],\n",
      "       [-6.5063572e-01,  5.3167095e+00,  1.7538513e+00]], dtype=float32),\n",
      " 'SubhaloStarMetalFractions': array([[7.1267563e-01, 2.5947395e-01, 2.9650340e-03, ..., 1.1695591e-03,\n",
      "        1.2202442e-03, 6.8170199e-04],\n",
      "       [7.1693587e-01, 2.5547338e-01, 2.8654707e-03, ..., 1.1712124e-03,\n",
      "        1.1836838e-03, 6.7874434e-04],\n",
      "       [7.2326458e-01, 2.5331837e-01, 2.4884595e-03, ..., 1.0079349e-03,\n",
      "        1.1060439e-03, 6.1333954e-04],\n",
      "       ...,\n",
      "       [0.0000000e+00, 0.0000000e+00, 0.0000000e+00, ..., 0.0000000e+00,\n",
      "        0.0000000e+00, 0.0000000e+00],\n",
      "       [0.0000000e+00, 0.0000000e+00, 0.0000000e+00, ..., 0.0000000e+00,\n",
      "        0.0000000e+00, 0.0000000e+00],\n",
      "       [0.0000000e+00, 0.0000000e+00, 0.0000000e+00, ..., 0.0000000e+00,\n",
      "        0.0000000e+00, 0.0000000e+00]], dtype=float32),\n",
      " 'SubhaloStarMetalFractionsHalfRad': array([[7.0730954e-01, 2.6170817e-01, 3.3332233e-03, ..., 1.2956249e-03,\n",
      "        1.3634989e-03, 7.5575884e-04],\n",
      "       [7.1196729e-01, 2.5694889e-01, 3.2557405e-03, ..., 1.3129453e-03,\n",
      "        1.3270649e-03, 7.5794460e-04],\n",
      "       [7.1985650e-01, 2.5383726e-01, 2.8088938e-03, ..., 1.1297910e-03,\n",
      "        1.2449245e-03, 6.8779546e-04],\n",
      "       ...,\n",
      "       [0.0000000e+00, 0.0000000e+00, 0.0000000e+00, ..., 0.0000000e+00,\n",
      "        0.0000000e+00, 0.0000000e+00],\n",
      "       [0.0000000e+00, 0.0000000e+00, 0.0000000e+00, ..., 0.0000000e+00,\n",
      "        0.0000000e+00, 0.0000000e+00],\n",
      "       [0.0000000e+00, 0.0000000e+00, 0.0000000e+00, ..., 0.0000000e+00,\n",
      "        0.0000000e+00, 0.0000000e+00]], dtype=float32),\n",
      " 'SubhaloStarMetalFractionsMaxRad': array([[7.1976602e-01, 2.5658518e-01, 2.4807120e-03, ..., 9.9869911e-04,\n",
      "        1.0290954e-03, 5.8132532e-04],\n",
      "       [7.0120734e-01, 2.6046348e-01, 4.0671751e-03, ..., 1.6054113e-03,\n",
      "        1.6230161e-03, 9.2047860e-04],\n",
      "       [7.2178406e-01, 2.5356734e-01, 2.6255068e-03, ..., 1.0599024e-03,\n",
      "        1.1657543e-03, 6.4522342e-04],\n",
      "       ...,\n",
      "       [0.0000000e+00, 0.0000000e+00, 0.0000000e+00, ..., 0.0000000e+00,\n",
      "        0.0000000e+00, 0.0000000e+00],\n",
      "       [0.0000000e+00, 0.0000000e+00, 0.0000000e+00, ..., 0.0000000e+00,\n",
      "        0.0000000e+00, 0.0000000e+00],\n",
      "       [0.0000000e+00, 0.0000000e+00, 0.0000000e+00, ..., 0.0000000e+00,\n",
      "        0.0000000e+00, 0.0000000e+00]], dtype=float32),\n",
      " 'SubhaloStarMetallicity': array([0.02785045, 0.02759071, 0.02341705, ..., 0.        , 0.        ,\n",
      "       0.        ], dtype=float32),\n",
      " 'SubhaloStarMetallicityHalfRad': array([0.0309823 , 0.03108381, 0.02630625, ..., 0.        , 0.        ,\n",
      "       0.        ], dtype=float32),\n",
      " 'SubhaloStarMetallicityMaxRad': array([0.02364881, 0.0383292 , 0.02464863, ..., 0.        , 0.        ,\n",
      "       0.        ], dtype=float32),\n",
      " 'SubhaloStellarPhotometrics': array([[-2.3824375e+01, -2.4268419e+01, -2.5149879e+01, ...,\n",
      "        -2.5494339e+01, -2.5856983e+01, -2.6119900e+01],\n",
      "       [-2.0812462e+01, -2.1303310e+01, -2.2211754e+01, ...,\n",
      "        -2.2565413e+01, -2.2941479e+01, -2.3216156e+01],\n",
      "       [-2.0574484e+01, -2.1024696e+01, -2.1905352e+01, ...,\n",
      "        -2.2248123e+01, -2.2608507e+01, -2.2871435e+01],\n",
      "       ...,\n",
      "       [ 9.9999999e+36,  9.9999999e+36,  9.9999999e+36, ...,\n",
      "         9.9999999e+36,  9.9999999e+36,  9.9999999e+36],\n",
      "       [ 9.9999999e+36,  9.9999999e+36,  9.9999999e+36, ...,\n",
      "         9.9999999e+36,  9.9999999e+36,  9.9999999e+36],\n",
      "       [ 9.9999999e+36,  9.9999999e+36,  9.9999999e+36, ...,\n",
      "         9.9999999e+36,  9.9999999e+36,  9.9999999e+36]], dtype=float32),\n",
      " 'SubhaloStellarPhotometricsMassInRad': array([127.11712 ,  11.010286,   6.544091, ...,   0.      ,   0.      ,\n",
      "         0.      ], dtype=float32),\n",
      " 'SubhaloStellarPhotometricsRad': array([37.017887, 10.066591,  9.767974, ...,  0.      ,  0.      ,\n",
      "        0.      ], dtype=float32),\n",
      " 'SubhaloVel': array([[  17.847265 ,   -2.5973063,  -39.197    ],\n",
      "       [ 468.76248  , -468.93683  , -163.71782  ],\n",
      "       [ 292.488    ,  577.3063   ,  835.5495   ],\n",
      "       ...,\n",
      "       [ -75.03505  , -134.92581  ,   22.727518 ],\n",
      "       [ 128.30063  ,  114.39582  , -120.742546 ],\n",
      "       [ 179.94487  ,  -83.58276  ,  -52.952003 ]], dtype=float32),\n",
      " 'SubhaloVelDisp': array([489.45905  , 175.11826  , 144.30421  , ...,   3.229303 ,\n",
      "         4.0231686,   3.686556 ], dtype=float32),\n",
      " 'SubhaloVmax': array([890.44916 , 364.63983 , 253.89925 , ...,   6.134702,   9.956699,\n",
      "         8.093308], dtype=float32),\n",
      " 'SubhaloVmaxRad': array([294.53876  ,   1.5653671,  10.118192 , ...,   5.059308 ,\n",
      "         1.3871332,   2.906872 ], dtype=float32),\n",
      " 'SubhaloWindMass': array([1.3797071e-02, 0.0000000e+00, 9.8593468e-05, ..., 0.0000000e+00,\n",
      "       0.0000000e+00, 0.0000000e+00], dtype=float32),\n",
      " 'count': 859077}\n"
     ]
    }
   ],
   "source": [
    "from pprint import pprint\n",
    "pprint(subhalos_hydro,width=30)"
   ]
  },
  {
   "cell_type": "code",
   "execution_count": 25,
   "id": "81054cca-207e-42b2-97b9-1dc64ea2a313",
   "metadata": {
    "execution": {
     "iopub.execute_input": "2021-09-26T13:18:52.247011Z",
     "iopub.status.busy": "2021-09-26T13:18:52.246796Z",
     "iopub.status.idle": "2021-09-26T13:18:52.250802Z",
     "shell.execute_reply": "2021-09-26T13:18:52.250278Z",
     "shell.execute_reply.started": "2021-09-26T13:18:52.246984Z"
    },
    "tags": []
   },
   "outputs": [
    {
     "data": {
      "text/plain": [
       "dict_keys(['count', 'SubhaloBHMass', 'SubhaloBHMdot', 'SubhaloBfldDisk', 'SubhaloBfldHalo', 'SubhaloCM', 'SubhaloFlag', 'SubhaloGasMetalFractions', 'SubhaloGasMetalFractionsHalfRad', 'SubhaloGasMetalFractionsMaxRad', 'SubhaloGasMetalFractionsSfr', 'SubhaloGasMetalFractionsSfrWeighted', 'SubhaloGasMetallicity', 'SubhaloGasMetallicityHalfRad', 'SubhaloGasMetallicityMaxRad', 'SubhaloGasMetallicitySfr', 'SubhaloGasMetallicitySfrWeighted', 'SubhaloGrNr', 'SubhaloHalfmassRad', 'SubhaloHalfmassRadType', 'SubhaloIDMostbound', 'SubhaloLen', 'SubhaloLenType', 'SubhaloMass', 'SubhaloMassInHalfRad', 'SubhaloMassInHalfRadType', 'SubhaloMassInMaxRad', 'SubhaloMassInMaxRadType', 'SubhaloMassInRad', 'SubhaloMassInRadType', 'SubhaloMassType', 'SubhaloParent', 'SubhaloPos', 'SubhaloSFR', 'SubhaloSFRinHalfRad', 'SubhaloSFRinMaxRad', 'SubhaloSFRinRad', 'SubhaloSpin', 'SubhaloStarMetalFractions', 'SubhaloStarMetalFractionsHalfRad', 'SubhaloStarMetalFractionsMaxRad', 'SubhaloStarMetallicity', 'SubhaloStarMetallicityHalfRad', 'SubhaloStarMetallicityMaxRad', 'SubhaloStellarPhotometrics', 'SubhaloStellarPhotometricsMassInRad', 'SubhaloStellarPhotometricsRad', 'SubhaloVel', 'SubhaloVelDisp', 'SubhaloVmax', 'SubhaloVmaxRad', 'SubhaloWindMass'])"
      ]
     },
     "execution_count": 25,
     "metadata": {},
     "output_type": "execute_result"
    }
   ],
   "source": [
    "subhalos_hydro.keys()"
   ]
  },
  {
   "cell_type": "markdown",
   "id": "d937459c-676f-4040-be8c-2f5dc7ebf5e1",
   "metadata": {},
   "source": [
    "### convert to Dataframe"
   ]
  },
  {
   "cell_type": "code",
   "execution_count": 48,
   "id": "fabc5df7-812a-48e1-aae6-248e2ef0c352",
   "metadata": {
    "execution": {
     "iopub.execute_input": "2021-09-26T15:11:38.023847Z",
     "iopub.status.busy": "2021-09-26T15:11:38.023635Z",
     "iopub.status.idle": "2021-09-26T15:11:38.254357Z",
     "shell.execute_reply": "2021-09-26T15:11:38.253714Z",
     "shell.execute_reply.started": "2021-09-26T15:11:38.023820Z"
    },
    "tags": []
   },
   "outputs": [
    {
     "name": "stdout",
     "output_type": "stream",
     "text": [
      "processing SubhaloFlag, \n",
      "Its shape is (859077,)\n",
      "processing SubhaloGrNr, \n",
      "Its shape is (859077,)\n",
      "processing SubhaloPos, \n",
      "Its shape is (859077, 3)\n",
      "processing SubhaloVel, \n",
      "Its shape is (859077, 3)\n",
      "processing SubhaloLen, \n",
      "Its shape is (859077,)\n",
      "processing SubhaloMass, \n",
      "Its shape is (859077,)\n",
      "processing SubhaloMassInRad, \n",
      "Its shape is (859077,)\n",
      "processing SubhaloSFR, \n",
      "Its shape is (859077,)\n",
      "processing SubhaloSpin, \n",
      "Its shape is (859077, 3)\n",
      "processing SubhaloHalfmassRad, \n",
      "Its shape is (859077,)\n",
      "processing SubhaloStellarPhotometricsRad, \n",
      "Its shape is (859077,)\n",
      "processing SubhaloVelDisp, \n",
      "Its shape is (859077,)\n",
      "processing SubhaloVmax, \n",
      "Its shape is (859077,)\n",
      "processing SubhaloBHMass, \n",
      "Its shape is (859077,)\n",
      "processing SubhaloBHMdot, \n",
      "Its shape is (859077,)\n",
      "processing SubhaloBfldHalo, \n",
      "Its shape is (859077,)\n",
      "processing SubhaloGasMetallicity, \n",
      "Its shape is (859077,)\n",
      "processing SubhaloStarMetallicity, \n",
      "Its shape is (859077,)\n",
      "processing SubhaloGasMetalFractions, \n",
      "Its shape is (859077, 10)\n",
      "processing SubhaloStarMetalFractions, \n",
      "Its shape is (859077, 10)\n",
      "processing SubhaloStellarPhotometrics, \n",
      "Its shape is (859077, 8)\n",
      "Done in 0.2217400074005127 second\n"
     ]
    }
   ],
   "source": [
    "time_start = time()\n",
    "\n",
    "# keys we care\n",
    "keys_selected = [\n",
    "    'SubhaloFlag', 'SubhaloGrNr', \\\n",
    "    'SubhaloPos', 'SubhaloVel',\\\n",
    "    'SubhaloLen', 'SubhaloMass',  'SubhaloMassInRad', 'SubhaloSFR',\\\n",
    "    'SubhaloSpin',\\\n",
    "    'SubhaloHalfmassRad', 'SubhaloStellarPhotometricsRad','SubhaloVelDisp', 'SubhaloVmax',\\\n",
    "    'SubhaloBHMass', 'SubhaloBHMdot', 'SubhaloBfldHalo', \\\n",
    "    'SubhaloGasMetallicity', 'SubhaloStarMetallicity', 'SubhaloGasMetalFractions', 'SubhaloStarMetalFractions',\\\n",
    "    'SubhaloStellarPhotometrics'\n",
    "]\n",
    "\n",
    "subhalo_df = pd.DataFrame()  # init\n",
    "# assign value to df\n",
    "xyz_dict = {0: 'x', 1: 'y', 2: 'z'}\n",
    "photo_dict = {\n",
    "    0: 'U', 1: 'B', 2: 'V', 3: 'K',\n",
    "    4: 'g', 5: 'r', 6: 'i', 7: 'z'\n",
    "}\n",
    "for key in keys_selected:\n",
    "    print(f'processing {key}, \\nIts shape is {np.shape(subhalos_hydro[key])}')\n",
    "    if key in ['SubhaloPos','SubhaloVel','SubhaloSpin']:\n",
    "        for i in range(3):\n",
    "            subhalo_df[key+'_'+xyz_dict[i]] = subhalos_hydro[key][:,i]\n",
    "    elif key in ['SubhaloGasMetalFractions','SubhaloStarMetalFractions']:\n",
    "        subhalo_df[key+'_H'] = subhalos_hydro[key][:,0]\n",
    "    elif key == 'SubhaloStellarPhotometrics':\n",
    "        for i in range(8):\n",
    "            subhalo_df[key+'_'+photo_dict[i]] = subhalos_hydro[key][:,i]\n",
    "    else:\n",
    "        subhalo_df[key] = subhalos_hydro[key]\n",
    "    pass\n",
    "\n",
    "time_end = time()\n",
    "print(f\"Done in {time_end - time_start} second\")"
   ]
  },
  {
   "cell_type": "code",
   "execution_count": 39,
   "id": "3f2b47fd-9a68-4a15-a092-89f0040efba7",
   "metadata": {
    "execution": {
     "iopub.execute_input": "2021-09-26T13:41:48.744341Z",
     "iopub.status.busy": "2021-09-26T13:41:48.744129Z",
     "iopub.status.idle": "2021-09-26T13:41:48.774682Z",
     "shell.execute_reply": "2021-09-26T13:41:48.774166Z",
     "shell.execute_reply.started": "2021-09-26T13:41:48.744314Z"
    },
    "tags": []
   },
   "outputs": [
    {
     "data": {
      "text/html": [
       "<div>\n",
       "<style scoped>\n",
       "    .dataframe tbody tr th:only-of-type {\n",
       "        vertical-align: middle;\n",
       "    }\n",
       "\n",
       "    .dataframe tbody tr th {\n",
       "        vertical-align: top;\n",
       "    }\n",
       "\n",
       "    .dataframe thead th {\n",
       "        text-align: right;\n",
       "    }\n",
       "</style>\n",
       "<table border=\"1\" class=\"dataframe\">\n",
       "  <thead>\n",
       "    <tr style=\"text-align: right;\">\n",
       "      <th></th>\n",
       "      <th>SubhaloFlag</th>\n",
       "      <th>SubhaloGrNr</th>\n",
       "      <th>SubhaloPos_x</th>\n",
       "      <th>SubhaloPos_y</th>\n",
       "      <th>SubhaloPos_z</th>\n",
       "      <th>SubhaloVel_x</th>\n",
       "      <th>SubhaloVel_y</th>\n",
       "      <th>SubhaloVel_z</th>\n",
       "      <th>SubhaloLen</th>\n",
       "      <th>SubhaloMass</th>\n",
       "      <th>...</th>\n",
       "      <th>SubhaloGasMetalFractions_H</th>\n",
       "      <th>SubhaloStarMetalFractions_H</th>\n",
       "      <th>SubhaloStellarPhotometrics_U</th>\n",
       "      <th>SubhaloStellarPhotometrics_B</th>\n",
       "      <th>SubhaloStellarPhotometrics_V</th>\n",
       "      <th>SubhaloStellarPhotometrics_K</th>\n",
       "      <th>SubhaloStellarPhotometrics_g</th>\n",
       "      <th>SubhaloStellarPhotometrics_r</th>\n",
       "      <th>SubhaloStellarPhotometrics_i</th>\n",
       "      <th>SubhaloStellarPhotometrics_z</th>\n",
       "    </tr>\n",
       "  </thead>\n",
       "  <tbody>\n",
       "    <tr>\n",
       "      <th>61</th>\n",
       "      <td>True</td>\n",
       "      <td>0</td>\n",
       "      <td>6487.588379</td>\n",
       "      <td>25030.939453</td>\n",
       "      <td>20922.052734</td>\n",
       "      <td>27.461630</td>\n",
       "      <td>-437.334747</td>\n",
       "      <td>-410.254547</td>\n",
       "      <td>20299</td>\n",
       "      <td>3.495228</td>\n",
       "      <td>...</td>\n",
       "      <td>0.0</td>\n",
       "      <td>0.740362</td>\n",
       "      <td>-16.754200</td>\n",
       "      <td>-17.111168</td>\n",
       "      <td>-17.943592</td>\n",
       "      <td>-20.732918</td>\n",
       "      <td>-17.554319</td>\n",
       "      <td>-18.271423</td>\n",
       "      <td>-18.608555</td>\n",
       "      <td>-18.837973</td>\n",
       "    </tr>\n",
       "    <tr>\n",
       "      <th>62</th>\n",
       "      <td>False</td>\n",
       "      <td>0</td>\n",
       "      <td>7314.802734</td>\n",
       "      <td>24685.427734</td>\n",
       "      <td>21373.167969</td>\n",
       "      <td>124.699272</td>\n",
       "      <td>-472.706177</td>\n",
       "      <td>-68.941582</td>\n",
       "      <td>19986</td>\n",
       "      <td>0.518906</td>\n",
       "      <td>...</td>\n",
       "      <td>0.0</td>\n",
       "      <td>0.669316</td>\n",
       "      <td>-16.703707</td>\n",
       "      <td>-17.340807</td>\n",
       "      <td>-18.318331</td>\n",
       "      <td>-21.564293</td>\n",
       "      <td>-17.839891</td>\n",
       "      <td>-18.693113</td>\n",
       "      <td>-19.099060</td>\n",
       "      <td>-19.410948</td>\n",
       "    </tr>\n",
       "    <tr>\n",
       "      <th>63</th>\n",
       "      <td>False</td>\n",
       "      <td>0</td>\n",
       "      <td>7296.033691</td>\n",
       "      <td>24455.908203</td>\n",
       "      <td>21254.376953</td>\n",
       "      <td>109.629295</td>\n",
       "      <td>254.160568</td>\n",
       "      <td>604.240845</td>\n",
       "      <td>19636</td>\n",
       "      <td>0.617575</td>\n",
       "      <td>...</td>\n",
       "      <td>0.0</td>\n",
       "      <td>0.665053</td>\n",
       "      <td>-17.685072</td>\n",
       "      <td>-18.190443</td>\n",
       "      <td>-19.092861</td>\n",
       "      <td>-22.170485</td>\n",
       "      <td>-18.661734</td>\n",
       "      <td>-19.440228</td>\n",
       "      <td>-19.809540</td>\n",
       "      <td>-20.090055</td>\n",
       "    </tr>\n",
       "    <tr>\n",
       "      <th>64</th>\n",
       "      <td>True</td>\n",
       "      <td>0</td>\n",
       "      <td>7317.954102</td>\n",
       "      <td>24477.970703</td>\n",
       "      <td>21305.128906</td>\n",
       "      <td>241.255859</td>\n",
       "      <td>405.476654</td>\n",
       "      <td>-119.963188</td>\n",
       "      <td>19179</td>\n",
       "      <td>1.006559</td>\n",
       "      <td>...</td>\n",
       "      <td>0.0</td>\n",
       "      <td>0.716263</td>\n",
       "      <td>-16.881115</td>\n",
       "      <td>-17.441099</td>\n",
       "      <td>-18.382889</td>\n",
       "      <td>-21.515385</td>\n",
       "      <td>-17.926704</td>\n",
       "      <td>-18.746441</td>\n",
       "      <td>-19.136642</td>\n",
       "      <td>-19.429062</td>\n",
       "    </tr>\n",
       "  </tbody>\n",
       "</table>\n",
       "<p>4 rows × 34 columns</p>\n",
       "</div>"
      ],
      "text/plain": [
       "    SubhaloFlag  SubhaloGrNr  SubhaloPos_x  SubhaloPos_y  SubhaloPos_z  \\\n",
       "61         True            0   6487.588379  25030.939453  20922.052734   \n",
       "62        False            0   7314.802734  24685.427734  21373.167969   \n",
       "63        False            0   7296.033691  24455.908203  21254.376953   \n",
       "64         True            0   7317.954102  24477.970703  21305.128906   \n",
       "\n",
       "    SubhaloVel_x  SubhaloVel_y  SubhaloVel_z  SubhaloLen  SubhaloMass  ...  \\\n",
       "61     27.461630   -437.334747   -410.254547       20299     3.495228  ...   \n",
       "62    124.699272   -472.706177    -68.941582       19986     0.518906  ...   \n",
       "63    109.629295    254.160568    604.240845       19636     0.617575  ...   \n",
       "64    241.255859    405.476654   -119.963188       19179     1.006559  ...   \n",
       "\n",
       "    SubhaloGasMetalFractions_H  SubhaloStarMetalFractions_H  \\\n",
       "61                         0.0                     0.740362   \n",
       "62                         0.0                     0.669316   \n",
       "63                         0.0                     0.665053   \n",
       "64                         0.0                     0.716263   \n",
       "\n",
       "    SubhaloStellarPhotometrics_U  SubhaloStellarPhotometrics_B  \\\n",
       "61                    -16.754200                    -17.111168   \n",
       "62                    -16.703707                    -17.340807   \n",
       "63                    -17.685072                    -18.190443   \n",
       "64                    -16.881115                    -17.441099   \n",
       "\n",
       "    SubhaloStellarPhotometrics_V  SubhaloStellarPhotometrics_K  \\\n",
       "61                    -17.943592                    -20.732918   \n",
       "62                    -18.318331                    -21.564293   \n",
       "63                    -19.092861                    -22.170485   \n",
       "64                    -18.382889                    -21.515385   \n",
       "\n",
       "    SubhaloStellarPhotometrics_g  SubhaloStellarPhotometrics_r  \\\n",
       "61                    -17.554319                    -18.271423   \n",
       "62                    -17.839891                    -18.693113   \n",
       "63                    -18.661734                    -19.440228   \n",
       "64                    -17.926704                    -18.746441   \n",
       "\n",
       "    SubhaloStellarPhotometrics_i  SubhaloStellarPhotometrics_z  \n",
       "61                    -18.608555                    -18.837973  \n",
       "62                    -19.099060                    -19.410948  \n",
       "63                    -19.809540                    -20.090055  \n",
       "64                    -19.136642                    -19.429062  \n",
       "\n",
       "[4 rows x 34 columns]"
      ]
     },
     "execution_count": 39,
     "metadata": {},
     "output_type": "execute_result"
    }
   ],
   "source": [
    "subhalo_df[61:65]"
   ]
  },
  {
   "cell_type": "code",
   "execution_count": 40,
   "id": "79e13774-2784-4308-83a1-289b0e6803cf",
   "metadata": {
    "execution": {
     "iopub.execute_input": "2021-09-26T13:43:00.985174Z",
     "iopub.status.busy": "2021-09-26T13:43:00.984967Z",
     "iopub.status.idle": "2021-09-26T13:43:00.988852Z",
     "shell.execute_reply": "2021-09-26T13:43:00.988343Z",
     "shell.execute_reply.started": "2021-09-26T13:43:00.985148Z"
    },
    "tags": []
   },
   "outputs": [
    {
     "data": {
      "text/plain": [
       "(859077, 34)"
      ]
     },
     "execution_count": 40,
     "metadata": {},
     "output_type": "execute_result"
    }
   ],
   "source": [
    "subhalo_df.shape"
   ]
  },
  {
   "cell_type": "code",
   "execution_count": 60,
   "id": "5379e5da-2160-447e-985b-86b562cbdbb4",
   "metadata": {
    "execution": {
     "iopub.execute_input": "2021-09-26T15:20:54.374879Z",
     "iopub.status.busy": "2021-09-26T15:20:54.374669Z",
     "iopub.status.idle": "2021-09-26T15:20:54.378664Z",
     "shell.execute_reply": "2021-09-26T15:20:54.378144Z",
     "shell.execute_reply.started": "2021-09-26T15:20:54.374853Z"
    },
    "tags": []
   },
   "outputs": [
    {
     "data": {
      "text/plain": [
       "859076"
      ]
     },
     "execution_count": 60,
     "metadata": {},
     "output_type": "execute_result"
    }
   ],
   "source": [
    "subhalo_df.index.max()"
   ]
  },
  {
   "cell_type": "markdown",
   "id": "2f4c92e6-7441-4971-ab2a-d9e41d56ec1e",
   "metadata": {},
   "source": [
    "### drop fake subhalo"
   ]
  },
  {
   "cell_type": "code",
   "execution_count": 61,
   "id": "0b21a422-8229-4234-96f9-e8c6ab432da8",
   "metadata": {
    "execution": {
     "iopub.execute_input": "2021-09-26T15:21:10.577730Z",
     "iopub.status.busy": "2021-09-26T15:21:10.577523Z",
     "iopub.status.idle": "2021-09-26T15:21:10.729878Z",
     "shell.execute_reply": "2021-09-26T15:21:10.729292Z",
     "shell.execute_reply.started": "2021-09-26T15:21:10.577703Z"
    },
    "tags": []
   },
   "outputs": [
    {
     "data": {
      "text/plain": [
       "(857818, 33)"
      ]
     },
     "execution_count": 61,
     "metadata": {},
     "output_type": "execute_result"
    }
   ],
   "source": [
    "subhalo_df.drop(subhalo_df[~subhalo_df['SubhaloFlag']].index,inplace=True)\n",
    "subhalo_df.drop(columns='SubhaloFlag',inplace=True)\n",
    "subhalo_df.reset_index(inplace=True,drop=True)\n",
    "subhalo_df.shape"
   ]
  },
  {
   "cell_type": "markdown",
   "id": "8b44d5f5-dbb2-4053-a271-26935ce6b6a3",
   "metadata": {},
   "source": [
    "### save and load"
   ]
  },
  {
   "cell_type": "code",
   "execution_count": 63,
   "id": "0980465c-0aa9-4a0c-8de3-ed1c7625beb7",
   "metadata": {
    "execution": {
     "iopub.execute_input": "2021-09-26T15:21:55.213722Z",
     "iopub.status.busy": "2021-09-26T15:21:55.213510Z",
     "iopub.status.idle": "2021-09-26T15:21:55.446126Z",
     "shell.execute_reply": "2021-09-26T15:21:55.444566Z",
     "shell.execute_reply.started": "2021-09-26T15:21:55.213695Z"
    },
    "tags": []
   },
   "outputs": [],
   "source": [
    "# save to disk\n",
    "import pyarrow.feather as feather\n",
    "feather.write_feather(subhalo_df, \"./tmp_save/TNG-50-hydro-z0-subhalo-catalog.df.feather\")"
   ]
  },
  {
   "cell_type": "code",
   "execution_count": null,
   "id": "d7799aaa-506e-4698-b6bb-ed206095c210",
   "metadata": {},
   "outputs": [],
   "source": [
    "# load from disk\n",
    "import pyarrow.feather as feather\n",
    "subhalo_df = feather.read_feather(\"./tmp_save/TNG-50-hydro-z0-subhalo-catalog.df.feather\")"
   ]
  },
  {
   "cell_type": "markdown",
   "id": "d2727190-d37e-4c43-b047-c9d683a19cee",
   "metadata": {},
   "source": [
    "# Go to mesh🥳\n"
   ]
  },
  {
   "cell_type": "markdown",
   "id": "93a26e2a-8710-41f8-9418-1a262d02ca3f",
   "metadata": {
    "execution": {
     "iopub.execute_input": "2021-09-26T15:40:04.716958Z",
     "iopub.status.busy": "2021-09-26T15:40:04.716653Z",
     "iopub.status.idle": "2021-09-26T15:40:04.723441Z",
     "shell.execute_reply": "2021-09-26T15:40:04.722188Z",
     "shell.execute_reply.started": "2021-09-26T15:40:04.716922Z"
    },
    "tags": []
   },
   "source": [
    "## make catalog\n",
    "We need to convert the data in memory to *nbodykit catalog* 👇\n",
    "> [make catalog from memory](https://nbodykit.readthedocs.io/en/latest/catalogs/reading.html#Adapting-in-memory-data-to-a-Catalog)\n",
    "\n",
    "Parameters:\n",
    "- `Position`[Mpc/h]: (x,y,z)\n",
    "- "
   ]
  },
  {
   "cell_type": "code",
   "execution_count": null,
   "id": "f3bf1e37-83fb-483c-9359-666b0f8f1ba3",
   "metadata": {},
   "outputs": [],
   "source": [
    "from nbodykit.source.catalog import ArrayCatalog\n",
    "\n",
    "f = ArrayCatalog({'Position' : data['Position'], 'Mass' : data['Mass'] })\n",
    "试试pandas格式，若不行，则 df 转 dict\n",
    "\n",
    "https://rainwoodman.github.io/pmesh/_modules/pmesh/window.html#FindResampler\n",
    "        NEAREST = ResampleWindow(kind=\"nearest\"),\n",
    "    LINEAR = ResampleWindow(kind=\"linear\"),\n",
    "    NNB = ResampleWindow(kind=\"tunednnb\"),\n",
    "    CIC = ResampleWindow(kind=\"tunedcic\"),\n",
    "    TSC = ResampleWindow(kind=\"tunedtsc\"),\n",
    "    PCS = ResampleWindow(kind=\"tunedpcs\"),"
   ]
  },
  {
   "cell_type": "code",
   "execution_count": 54,
   "id": "5dd38c56-dbd3-45a2-ac81-6e3682622e45",
   "metadata": {
    "execution": {
     "iopub.execute_input": "2021-09-28T05:17:27.456616Z",
     "iopub.status.busy": "2021-09-28T05:17:27.456357Z",
     "iopub.status.idle": "2021-09-28T05:17:30.363601Z",
     "shell.execute_reply": "2021-09-28T05:17:30.361715Z",
     "shell.execute_reply.started": "2021-09-28T05:17:27.456576Z"
    },
    "tags": []
   },
   "outputs": [],
   "source": [
    "from nbodykit.lab import *\n",
    "redshift = 0\n",
    "cosmo = cosmology.Planck15\n",
    "Plin = cosmology.LinearPower(cosmo, redshift, transfer='EisensteinHu')\n",
    "\n",
    "cat = LogNormalCatalog(Plin=Plin, nbar=3e-3, BoxSize=35., Nmesh=10, bias=1.0, seed=42)"
   ]
  },
  {
   "cell_type": "code",
   "execution_count": null,
   "id": "ef87fefd-c3c1-4e33-9b0f-a3f79301eb29",
   "metadata": {},
   "outputs": [],
   "source": [
    "cat.to_mesh()"
   ]
  },
  {
   "cell_type": "code",
   "execution_count": 201,
   "id": "512ec5e7-a754-4c89-af1c-3d3219b8fa39",
   "metadata": {
    "execution": {
     "iopub.execute_input": "2021-09-27T05:55:41.052393Z",
     "iopub.status.busy": "2021-09-27T05:55:41.052125Z",
     "iopub.status.idle": "2021-09-27T05:55:41.061502Z",
     "shell.execute_reply": "2021-09-27T05:55:41.060349Z",
     "shell.execute_reply.started": "2021-09-27T05:55:41.052356Z"
    },
    "tags": []
   },
   "outputs": [
    {
     "data": {
      "text/plain": [
       "{'transfer': 'EisensteinHu',\n",
       " 'cosmo': {'output': 'vTk dTk mPk',\n",
       "  'extra metric transfer functions': 'y',\n",
       "  'h': 0.6774,\n",
       "  'N_ur': 2.0328,\n",
       "  'gauge': 'synchronous',\n",
       "  'n_s': 0.9667,\n",
       "  'ln10^{10}A_s': 3.064,\n",
       "  'k_pivot': 0.05,\n",
       "  'tau_reio': 0.066,\n",
       "  'T_cmb': 2.7255,\n",
       "  'Omega_cdm': 0.2589,\n",
       "  'Omega_b': 0.0486,\n",
       "  'Omega_k': 0.0,\n",
       "  'N_ncdm': 1,\n",
       "  'm_ncdm': [0.06],\n",
       "  'P_k_max_h/Mpc': 10.0,\n",
       "  'z_max_pk': 100.0},\n",
       " 'redshift': 0,\n",
       " 'sigma8': 0.8158116144901115,\n",
       " 'nbar': 0.003,\n",
       " 'bias': 1.0,\n",
       " 'unitary_amplitude': False,\n",
       " 'inverted_phase': False,\n",
       " 'seed': 42,\n",
       " 'Nmesh': array([10, 10, 10]),\n",
       " 'BoxSize': array([35., 35., 35.])}"
      ]
     },
     "execution_count": 201,
     "metadata": {},
     "output_type": "execute_result"
    }
   ],
   "source": [
    "cat.attrs"
   ]
  },
  {
   "cell_type": "code",
   "execution_count": 103,
   "id": "b243c34f-7cfb-4bbe-89b1-a8141c5f2c46",
   "metadata": {
    "execution": {
     "iopub.execute_input": "2021-09-27T02:43:17.535998Z",
     "iopub.status.busy": "2021-09-27T02:43:17.535758Z",
     "iopub.status.idle": "2021-09-27T02:43:17.542191Z",
     "shell.execute_reply": "2021-09-27T02:43:17.541046Z",
     "shell.execute_reply.started": "2021-09-27T02:43:17.535969Z"
    },
    "tags": []
   },
   "outputs": [
    {
     "data": {
      "text/plain": [
       "['Position', 'Selection', 'Value', 'Velocity', 'VelocityOffset', 'Weight']"
      ]
     },
     "execution_count": 103,
     "metadata": {},
     "output_type": "execute_result"
    }
   ],
   "source": [
    "cat.columns"
   ]
  },
  {
   "cell_type": "code",
   "execution_count": 102,
   "id": "130c5f5d-7573-4093-b117-3a813e9cbda1",
   "metadata": {
    "execution": {
     "iopub.execute_input": "2021-09-27T02:43:02.253921Z",
     "iopub.status.busy": "2021-09-27T02:43:02.253565Z",
     "iopub.status.idle": "2021-09-27T02:43:02.266198Z",
     "shell.execute_reply": "2021-09-27T02:43:02.265052Z",
     "shell.execute_reply.started": "2021-09-27T02:43:02.253873Z"
    },
    "tags": []
   },
   "outputs": [
    {
     "data": {
      "text/plain": [
       "array([[ 1.3550301,  1.5335696,  8.9352455],\n",
       "       [ 1.9416637,  9.315755 ,  6.3186336],\n",
       "       [ 1.8797947, 14.449267 ,  3.7677681],\n",
       "       [34.656265 , 11.379529 , 29.57557  ],\n",
       "       [34.96308  , 23.10876  , 10.878756 ]], dtype=float32)"
      ]
     },
     "execution_count": 102,
     "metadata": {},
     "output_type": "execute_result"
    }
   ],
   "source": [
    "cat['Position'].compute()[:5]"
   ]
  },
  {
   "cell_type": "code",
   "execution_count": 106,
   "id": "30d09d0f-a4ab-4ff5-8bb2-25cf8ee29cb3",
   "metadata": {
    "execution": {
     "iopub.execute_input": "2021-09-27T02:44:31.396505Z",
     "iopub.status.busy": "2021-09-27T02:44:31.396231Z",
     "iopub.status.idle": "2021-09-27T02:44:31.407343Z",
     "shell.execute_reply": "2021-09-27T02:44:31.406207Z",
     "shell.execute_reply.started": "2021-09-27T02:44:31.396476Z"
    },
    "tags": []
   },
   "outputs": [
    {
     "data": {
      "text/plain": [
       "34.96308"
      ]
     },
     "execution_count": 106,
     "metadata": {},
     "output_type": "execute_result"
    }
   ],
   "source": [
    "cat['Position'].max().compute()"
   ]
  },
  {
   "cell_type": "code",
   "execution_count": 104,
   "id": "b840e879-afc9-4ccf-934a-dd7b3b18fd62",
   "metadata": {
    "execution": {
     "iopub.execute_input": "2021-09-27T02:43:29.998710Z",
     "iopub.status.busy": "2021-09-27T02:43:29.998441Z",
     "iopub.status.idle": "2021-09-27T02:43:30.006470Z",
     "shell.execute_reply": "2021-09-27T02:43:30.005307Z",
     "shell.execute_reply.started": "2021-09-27T02:43:29.998669Z"
    },
    "tags": []
   },
   "outputs": [
    {
     "data": {
      "text/plain": [
       "array([[ -23.38592 ,  -70.38763 ,  -35.8952  ],\n",
       "       [ -51.61586 ,  -15.419132,   85.02745 ],\n",
       "       [ -71.107285,   38.684956,   77.35875 ],\n",
       "       [-109.98153 , -175.69435 ,  309.67532 ],\n",
       "       [ -21.077576,  267.04242 , -309.55603 ]], dtype=float32)"
      ]
     },
     "execution_count": 104,
     "metadata": {},
     "output_type": "execute_result"
    }
   ],
   "source": [
    "cat['Velocity'].compute()[:5]"
   ]
  },
  {
   "cell_type": "code",
   "execution_count": 105,
   "id": "76d3dea2-ec10-46cf-a785-072557b1a25b",
   "metadata": {
    "execution": {
     "iopub.execute_input": "2021-09-27T02:43:50.984559Z",
     "iopub.status.busy": "2021-09-27T02:43:50.984299Z",
     "iopub.status.idle": "2021-09-27T02:43:50.992277Z",
     "shell.execute_reply": "2021-09-27T02:43:50.991125Z",
     "shell.execute_reply.started": "2021-09-27T02:43:50.984531Z"
    },
    "tags": []
   },
   "outputs": [
    {
     "data": {
      "text/plain": [
       "array([[-0.2338592 , -0.70387626, -0.358952  ],\n",
       "       [-0.5161586 , -0.15419133,  0.8502745 ],\n",
       "       [-0.71107286,  0.38684958,  0.77358747],\n",
       "       [-1.0998152 , -1.7569435 ,  3.0967534 ],\n",
       "       [-0.21077576,  2.6704242 , -3.0955603 ]], dtype=float32)"
      ]
     },
     "execution_count": 105,
     "metadata": {},
     "output_type": "execute_result"
    }
   ],
   "source": [
    "cat['VelocityOffset'].compute()[:5]"
   ]
  },
  {
   "cell_type": "code",
   "execution_count": 114,
   "id": "8f7f4efe-f55d-4b72-b46b-deebab14a707",
   "metadata": {
    "execution": {
     "iopub.execute_input": "2021-09-27T03:14:27.115077Z",
     "iopub.status.busy": "2021-09-27T03:14:27.114812Z",
     "iopub.status.idle": "2021-09-27T03:14:27.123033Z",
     "shell.execute_reply": "2021-09-27T03:14:27.121876Z",
     "shell.execute_reply.started": "2021-09-27T03:14:27.115049Z"
    },
    "tags": []
   },
   "outputs": [
    {
     "data": {
      "text/plain": [
       "array([[ 7320.264 , 24545.36  , 21301.7   ],\n",
       "       [ 6787.4624, 24964.396 , 21290.254 ],\n",
       "       [ 6794.6924, 23893.287 , 21114.664 ],\n",
       "       [ 7411.079 , 25166.357 , 20760.98  ],\n",
       "       [ 7394.866 , 25550.693 , 21564.033 ],\n",
       "       [ 8056.3755, 24396.15  , 20880.13  ],\n",
       "       [ 7200.2017, 24522.857 , 21226.637 ],\n",
       "       [ 7812.019 , 25034.877 , 22199.988 ],\n",
       "       [ 6461.0366, 24306.516 , 20959.791 ],\n",
       "       [ 7138.06  , 25228.848 , 21770.2   ],\n",
       "       [ 7181.016 , 23440.088 , 21387.76  ]], dtype=float32)"
      ]
     },
     "execution_count": 114,
     "metadata": {},
     "output_type": "execute_result"
    }
   ],
   "source": [
    "subhalo_df.loc[0:10,['SubhaloPos_x','SubhaloPos_y','SubhaloPos_z']].values"
   ]
  },
  {
   "cell_type": "code",
   "execution_count": 108,
   "id": "4e61ab44-a86c-40ac-95f3-d92bae974e58",
   "metadata": {
    "execution": {
     "iopub.execute_input": "2021-09-27T03:06:14.003871Z",
     "iopub.status.busy": "2021-09-27T03:06:14.003612Z",
     "iopub.status.idle": "2021-09-27T03:07:30.415810Z",
     "shell.execute_reply": "2021-09-27T03:07:30.414218Z",
     "shell.execute_reply.started": "2021-09-27T03:06:14.003843Z"
    },
    "tags": []
   },
   "outputs": [
    {
     "data": {
      "text/html": [
       "<div>\n",
       "<style scoped>\n",
       "    .dataframe tbody tr th:only-of-type {\n",
       "        vertical-align: middle;\n",
       "    }\n",
       "\n",
       "    .dataframe tbody tr th {\n",
       "        vertical-align: top;\n",
       "    }\n",
       "\n",
       "    .dataframe thead th {\n",
       "        text-align: right;\n",
       "    }\n",
       "</style>\n",
       "<table border=\"1\" class=\"dataframe\">\n",
       "  <thead>\n",
       "    <tr style=\"text-align: right;\">\n",
       "      <th></th>\n",
       "      <th>x</th>\n",
       "      <th>y</th>\n",
       "    </tr>\n",
       "  </thead>\n",
       "  <tbody>\n",
       "    <tr>\n",
       "      <th>0</th>\n",
       "      <td>7320.396768</td>\n",
       "      <td>24545.045533</td>\n",
       "    </tr>\n",
       "    <tr>\n",
       "      <th>1</th>\n",
       "      <td>7320.019628</td>\n",
       "      <td>24545.882536</td>\n",
       "    </tr>\n",
       "    <tr>\n",
       "      <th>2</th>\n",
       "      <td>7319.812123</td>\n",
       "      <td>24545.252989</td>\n",
       "    </tr>\n",
       "    <tr>\n",
       "      <th>3</th>\n",
       "      <td>7320.773122</td>\n",
       "      <td>24545.727954</td>\n",
       "    </tr>\n",
       "    <tr>\n",
       "      <th>4</th>\n",
       "      <td>7319.902249</td>\n",
       "      <td>24545.577239</td>\n",
       "    </tr>\n",
       "    <tr>\n",
       "      <th>...</th>\n",
       "      <td>...</td>\n",
       "      <td>...</td>\n",
       "    </tr>\n",
       "    <tr>\n",
       "      <th>1259711995</th>\n",
       "      <td>29707.210451</td>\n",
       "      <td>23196.434624</td>\n",
       "    </tr>\n",
       "    <tr>\n",
       "      <th>1259711996</th>\n",
       "      <td>30709.275155</td>\n",
       "      <td>29265.152329</td>\n",
       "    </tr>\n",
       "    <tr>\n",
       "      <th>1259711997</th>\n",
       "      <td>32836.059080</td>\n",
       "      <td>25953.794054</td>\n",
       "    </tr>\n",
       "    <tr>\n",
       "      <th>1259711998</th>\n",
       "      <td>34794.298568</td>\n",
       "      <td>30541.402026</td>\n",
       "    </tr>\n",
       "    <tr>\n",
       "      <th>1259711999</th>\n",
       "      <td>29811.470350</td>\n",
       "      <td>30297.504004</td>\n",
       "    </tr>\n",
       "  </tbody>\n",
       "</table>\n",
       "<p>1259712000 rows × 2 columns</p>\n",
       "</div>"
      ],
      "text/plain": [
       "                       x             y\n",
       "0            7320.396768  24545.045533\n",
       "1            7320.019628  24545.882536\n",
       "2            7319.812123  24545.252989\n",
       "3            7320.773122  24545.727954\n",
       "4            7319.902249  24545.577239\n",
       "...                  ...           ...\n",
       "1259711995  29707.210451  23196.434624\n",
       "1259711996  30709.275155  29265.152329\n",
       "1259711997  32836.059080  25953.794054\n",
       "1259711998  34794.298568  30541.402026\n",
       "1259711999  29811.470350  30297.504004\n",
       "\n",
       "[1259712000 rows x 2 columns]"
      ]
     },
     "execution_count": 108,
     "metadata": {},
     "output_type": "execute_result"
    }
   ],
   "source": [
    "dm_df.loc[:,['x','y','z']].values"
   ]
  },
  {
   "cell_type": "code",
   "execution_count": 185,
   "id": "c41d30b7-52c6-4c65-96dd-357029d57500",
   "metadata": {
    "execution": {
     "iopub.execute_input": "2021-09-27T05:00:23.259146Z",
     "iopub.status.busy": "2021-09-27T05:00:23.258309Z",
     "iopub.status.idle": "2021-09-27T05:00:44.570941Z",
     "shell.execute_reply": "2021-09-27T05:00:44.568726Z",
     "shell.execute_reply.started": "2021-09-27T05:00:23.259092Z"
    },
    "tags": []
   },
   "outputs": [
    {
     "name": "stdout",
     "output_type": "stream",
     "text": [
      "x max is 34999.999921632334, min is 8.414743933826685e-05\n",
      "x max is 34999.99995750786, min is 7.5256937748652275e-06\n",
      "x max is 34999.99999552433, min is 8.868046272510535e-05\n"
     ]
    }
   ],
   "source": [
    "print(f\"x max is {dm_df['x'].max()}, min is {dm_df['x'].min()}\")\n",
    "print(f\"x max is {dm_df['y'].max()}, min is {dm_df['y'].min()}\")\n",
    "print(f\"x max is {dm_df['z'].max()}, min is {dm_df['z'].min()}\")"
   ]
  },
  {
   "cell_type": "code",
   "execution_count": 186,
   "id": "fa46dd95-a138-406f-a394-c3b9c3220b3d",
   "metadata": {
    "execution": {
     "iopub.execute_input": "2021-09-27T05:01:20.720984Z",
     "iopub.status.busy": "2021-09-27T05:01:20.720659Z",
     "iopub.status.idle": "2021-09-27T05:01:20.729486Z",
     "shell.execute_reply": "2021-09-27T05:01:20.728334Z",
     "shell.execute_reply.started": "2021-09-27T05:01:20.720935Z"
    },
    "tags": []
   },
   "outputs": [
    {
     "data": {
      "text/plain": [
       "33.87"
      ]
     },
     "execution_count": 186,
     "metadata": {},
     "output_type": "execute_result"
    }
   ],
   "source": [
    "BoxSize"
   ]
  },
  {
   "cell_type": "code",
   "execution_count": 198,
   "id": "2d4e84b3-5937-43cb-a99b-284abb5c433b",
   "metadata": {
    "execution": {
     "iopub.execute_input": "2021-09-27T05:55:12.202940Z",
     "iopub.status.busy": "2021-09-27T05:55:12.202703Z",
     "iopub.status.idle": "2021-09-27T05:55:12.219056Z",
     "shell.execute_reply": "2021-09-27T05:55:12.217760Z",
     "shell.execute_reply.started": "2021-09-27T05:55:12.202914Z"
    },
    "tags": []
   },
   "outputs": [],
   "source": [
    "'''dark matter particles\n",
    "Position[kpc/h]: x,y,z\n",
    "Velocity[km/s]: vx,vy,vz\n",
    "'''\n",
    "from nbodykit.source.catalog import ArrayCatalog\n",
    "\n",
    "h=0.6774\n",
    "BoxSize = 35  #50 * h  # [Mpc/h]\n",
    "Nmesh = 10 * 64  # 10 mini-box\n",
    "end = 100000\n",
    "\n",
    "cat = ArrayCatalog({\n",
    "    'Position': dm_df.loc[0:end,['x','y','z']].values/1000,\n",
    "    'vx': dm_df.loc[0:end,['vx']].values[:,0],\n",
    "    'vy': dm_df.loc[0:end,['vy']].values[:,0],\n",
    "    'vz': dm_df.loc[0:end,['vz']].values[:,0]\n",
    "})"
   ]
  },
  {
   "cell_type": "code",
   "execution_count": 199,
   "id": "30f2fb71-5547-461c-8660-0f675a89acf6",
   "metadata": {
    "execution": {
     "iopub.execute_input": "2021-09-27T05:55:20.872888Z",
     "iopub.status.busy": "2021-09-27T05:55:20.872640Z",
     "iopub.status.idle": "2021-09-27T05:55:20.879240Z",
     "shell.execute_reply": "2021-09-27T05:55:20.878101Z",
     "shell.execute_reply.started": "2021-09-27T05:55:20.872859Z"
    },
    "tags": []
   },
   "outputs": [
    {
     "data": {
      "text/plain": [
       "{}"
      ]
     },
     "execution_count": 199,
     "metadata": {},
     "output_type": "execute_result"
    }
   ],
   "source": [
    "cat.attrs"
   ]
  },
  {
   "cell_type": "code",
   "execution_count": 172,
   "id": "0a99a59b-df12-4154-8c16-30702c20f550",
   "metadata": {
    "execution": {
     "iopub.execute_input": "2021-09-27T04:23:50.003600Z",
     "iopub.status.busy": "2021-09-27T04:23:50.003332Z",
     "iopub.status.idle": "2021-09-27T04:23:50.013042Z",
     "shell.execute_reply": "2021-09-27T04:23:50.011887Z",
     "shell.execute_reply.started": "2021-09-27T04:23:50.003570Z"
    },
    "tags": []
   },
   "outputs": [
    {
     "data": {
      "text/html": [
       "<table>\n",
       "<tr>\n",
       "<td>\n",
       "<table>\n",
       "  <thead>\n",
       "    <tr><td> </td><th> Array </th><th> Chunk </th></tr>\n",
       "  </thead>\n",
       "  <tbody>\n",
       "    <tr><th> Bytes </th><td> 390.63 kiB </td> <td> 390.62 kiB </td></tr>\n",
       "    <tr><th> Shape </th><td> (100001,) </td> <td> (100000,) </td></tr>\n",
       "    <tr><th> Count </th><td> 2 Tasks </td><td> 2 Chunks </td></tr>\n",
       "    <tr><th> Type </th><td> float32 </td><td> numpy.ndarray </td></tr>\n",
       "  </tbody>\n",
       "</table>\n",
       "</td>\n",
       "<td>\n",
       "<svg width=\"170\" height=\"75\" style=\"stroke:rgb(0,0,0);stroke-width:1\" >\n",
       "\n",
       "  <!-- Horizontal lines -->\n",
       "  <line x1=\"0\" y1=\"0\" x2=\"120\" y2=\"0\" style=\"stroke-width:2\" />\n",
       "  <line x1=\"0\" y1=\"25\" x2=\"120\" y2=\"25\" style=\"stroke-width:2\" />\n",
       "\n",
       "  <!-- Vertical lines -->\n",
       "  <line x1=\"0\" y1=\"0\" x2=\"0\" y2=\"25\" style=\"stroke-width:2\" />\n",
       "  <line x1=\"119\" y1=\"0\" x2=\"119\" y2=\"25\" />\n",
       "  <line x1=\"120\" y1=\"0\" x2=\"120\" y2=\"25\" style=\"stroke-width:2\" />\n",
       "\n",
       "  <!-- Colored Rectangle -->\n",
       "  <polygon points=\"0.0,0.0 120.0,0.0 120.0,25.412616514582485 0.0,25.412616514582485\" style=\"fill:#ECB172A0;stroke-width:0\"/>\n",
       "\n",
       "  <!-- Text -->\n",
       "  <text x=\"60.000000\" y=\"45.412617\" font-size=\"1.0rem\" font-weight=\"100\" text-anchor=\"middle\" >100001</text>\n",
       "  <text x=\"140.000000\" y=\"12.706308\" font-size=\"1.0rem\" font-weight=\"100\" text-anchor=\"middle\" transform=\"rotate(0,140.000000,12.706308)\">1</text>\n",
       "</svg>\n",
       "</td>\n",
       "</tr>\n",
       "</table>"
      ],
      "text/plain": [
       "dask.array<array, shape=(100001,), dtype=float32, chunksize=(100000,), chunktype=numpy.ndarray>"
      ]
     },
     "execution_count": 172,
     "metadata": {},
     "output_type": "execute_result"
    }
   ],
   "source": [
    "cat['vx']"
   ]
  },
  {
   "cell_type": "markdown",
   "id": "88da5b8d-7ce9-4544-ade7-594e4ab0c23c",
   "metadata": {
    "tags": []
   },
   "source": [
    "## to mesh\n",
    "We can use many methods to **assign value** on mesh, such as `CIC, TSC, etc.`\n",
    "> [list of `window function`](https://rainwoodman.github.io/pmesh/_modules/pmesh/window.html#FindResampler)\n",
    "\n",
    "If we wanna use maximum/minimum rather than sum/average of all values in one cell,   \n",
    "we need to change the source code of `pmesh` **(to do)**   \n",
    "\n",
    "**Be careful** of `compensated` and `interlacing` 👇\n",
    "> [docs of `interlacing`](https://nbodykit.readthedocs.io/en/latest/mesh/creating.html#Compensation:-Deconvolving-the-Window-Kernel)"
   ]
  },
  {
   "cell_type": "code",
   "execution_count": 180,
   "id": "e49d42ef-a92f-451a-bacd-199d28e6ca26",
   "metadata": {
    "execution": {
     "iopub.execute_input": "2021-09-27T04:53:37.676696Z",
     "iopub.status.busy": "2021-09-27T04:53:37.675858Z",
     "iopub.status.idle": "2021-09-27T04:53:59.086344Z",
     "shell.execute_reply": "2021-09-27T04:53:59.084264Z",
     "shell.execute_reply.started": "2021-09-27T04:53:37.676638Z"
    },
    "tags": []
   },
   "outputs": [
    {
     "name": "stdout",
     "output_type": "stream",
     "text": [
      "CPU times: user 12 ms, sys: 0 ns, total: 12 ms\n",
      "Wall time: 10 ms\n",
      "CPU times: user 19.3 s, sys: 2.1 s, total: 21.4 s\n",
      "Wall time: 21.4 s\n"
     ]
    }
   ],
   "source": [
    "# convert to mesh object \n",
    "# cic, NEAREST\n",
    "%time mesh = cat.to_mesh(BoxSize=BoxSize, Nmesh=Nmesh, value='vz', resampler='nearest',interlaced=True)\n",
    "# start paint value on mesh!!!\n",
    "%time meshed_data = mesh.paint(mode='real')"
   ]
  },
  {
   "cell_type": "code",
   "execution_count": 174,
   "id": "58a3a434-3731-49b7-b008-0dbc7ab50085",
   "metadata": {
    "execution": {
     "iopub.execute_input": "2021-09-27T04:25:42.588587Z",
     "iopub.status.busy": "2021-09-27T04:25:42.588309Z",
     "iopub.status.idle": "2021-09-27T04:25:42.597821Z",
     "shell.execute_reply": "2021-09-27T04:25:42.596673Z",
     "shell.execute_reply.started": "2021-09-27T04:25:42.588547Z"
    },
    "tags": []
   },
   "outputs": [
    {
     "data": {
      "text/plain": [
       "{'shotnoise': 0.3885449305806941,\n",
       " 'N': 100001,\n",
       " 'W': 100001.0,\n",
       " 'W2': 100001.0,\n",
       " 'num_per_cell': 0.00038147354125976564,\n",
       " 'BoxSize': array([33.87, 33.87, 33.87]),\n",
       " 'Nmesh': array([640, 640, 640]),\n",
       " 'interlaced': True,\n",
       " 'compensated': True,\n",
       " 'resampler': 'cic'}"
      ]
     },
     "execution_count": 174,
     "metadata": {},
     "output_type": "execute_result"
    }
   ],
   "source": [
    "meshed_data.attrs"
   ]
  },
  {
   "cell_type": "code",
   "execution_count": 178,
   "id": "a8314a4e-82bc-4aa2-93dd-e1c2b1e0e95e",
   "metadata": {
    "execution": {
     "iopub.execute_input": "2021-09-27T04:33:59.205560Z",
     "iopub.status.busy": "2021-09-27T04:33:59.205327Z",
     "iopub.status.idle": "2021-09-27T04:33:59.211685Z",
     "shell.execute_reply": "2021-09-27T04:33:59.210499Z",
     "shell.execute_reply.started": "2021-09-27T04:33:59.205533Z"
    },
    "tags": []
   },
   "outputs": [
    {
     "data": {
      "text/plain": [
       "numpy.ndarray"
      ]
     },
     "execution_count": 178,
     "metadata": {},
     "output_type": "execute_result"
    }
   ],
   "source": [
    "type(meshed_data.value)"
   ]
  },
  {
   "cell_type": "code",
   "execution_count": 141,
   "id": "f7592101-5e77-4aaa-ac87-183429c33468",
   "metadata": {
    "execution": {
     "iopub.execute_input": "2021-09-27T03:48:32.288595Z",
     "iopub.status.busy": "2021-09-27T03:48:32.288357Z",
     "iopub.status.idle": "2021-09-27T03:48:32.299347Z",
     "shell.execute_reply": "2021-09-27T03:48:32.298211Z",
     "shell.execute_reply.started": "2021-09-27T03:48:32.288570Z"
    },
    "tags": []
   },
   "outputs": [
    {
     "data": {
      "text/plain": [
       "RealField:array([[[-0.04609776,  0.2755432 , -0.00356293, ...,  0.36770606,\n",
       "         -0.08639199,  0.3272416 ],\n",
       "        [ 0.00555611, -0.24242973, -0.03338623, ..., -0.3351032 ,\n",
       "          0.04596901, -0.28732342],\n",
       "        [ 0.03599548,  0.2036581 ,  0.08020782, ...,  0.29759443,\n",
       "         -0.00457209,  0.25118154],\n",
       "        ...,\n",
       "        [ 0.17528534, -0.38974857,  0.13364029, ..., -0.47982067,\n",
       "          0.21519601, -0.4305938 ],\n",
       "        [-0.12747002,  0.3451681 , -0.09017944, ...,  0.44240856,\n",
       "         -0.17014831,  0.39791864],\n",
       "        [ 0.08850002, -0.31291485,  0.04830551, ..., -0.41018337,\n",
       "          0.12889689, -0.36406833]],\n",
       "\n",
       "       [[ 0.00584126, -0.23991299, -0.03537369, ..., -0.3326608 ,\n",
       "          0.04429913, -0.2917139 ],\n",
       "        [ 0.03467178,  0.20907879,  0.07460785, ...,  0.3057496 ,\n",
       "         -0.00570393,  0.25525308],\n",
       "        [-0.07613754, -0.17161942, -0.11930084, ..., -0.26500076,\n",
       "         -0.03337413, -0.21822214],\n",
       "        ...,\n",
       "        [-0.13709164,  0.35651875, -0.09056091, ...,  0.4494089 ,\n",
       "         -0.17208022,  0.39970458],\n",
       "        [ 0.09123421, -0.3143196 ,  0.048172  , ..., -0.4074511 ,\n",
       "          0.12872428, -0.36263877],\n",
       "        [-0.04835701,  0.27968407, -0.00559616, ...,  0.37543476,\n",
       "         -0.08413345,  0.3284645 ]],\n",
       "\n",
       "       [[ 0.03486252,  0.20797539,  0.07768631, ...,  0.30549008,\n",
       "         -0.00405884,  0.25848472],\n",
       "        [-0.07800865, -0.17710876, -0.11601257, ..., -0.26822698,\n",
       "         -0.03822732, -0.21995258],\n",
       "        [ 0.11953735,  0.14014435,  0.1624527 , ...,  0.236364  ,\n",
       "          0.07517177,  0.18315655],\n",
       "        ...,\n",
       "        [ 0.09319687, -0.321846  ,  0.04774475, ..., -0.4160536 ,\n",
       "          0.12977344, -0.36737978],\n",
       "        [-0.04802036,  0.28269958, -0.00831985, ...,  0.37962914,\n",
       "         -0.09129989,  0.32890773],\n",
       "        [ 0.00344849, -0.24777412, -0.03548431, ..., -0.34060574,\n",
       "          0.04599386, -0.29481447]],\n",
       "\n",
       "       ...,\n",
       "\n",
       "       [[ 0.1689291 , -0.37121105,  0.13096046, ..., -0.46438134,\n",
       "          0.21171987, -0.42386055],\n",
       "        [-0.1241169 ,  0.33937645, -0.09021378, ...,  0.42984796,\n",
       "         -0.16562718,  0.3788088 ],\n",
       "        [ 0.07995224, -0.29772758,  0.04358292, ..., -0.39625657,\n",
       "          0.12641394, -0.34752232],\n",
       "        ...,\n",
       "        [-0.29154682,  0.48210335, -0.25247955, ...,  0.5783528 ,\n",
       "         -0.33171952,  0.53013617],\n",
       "        [ 0.24967003, -0.44657898,  0.21077538, ..., -0.5371608 ,\n",
       "          0.29118913, -0.48983663],\n",
       "        [-0.20681095,  0.40960503, -0.16666412, ...,  0.49981815,\n",
       "         -0.24359846,  0.45350486]],\n",
       "\n",
       "       [[-0.13047981,  0.3356762 , -0.09458351, ...,  0.4277016 ,\n",
       "         -0.17613286,  0.39378273],\n",
       "        [ 0.08415985, -0.3065424 ,  0.05944061, ..., -0.3978389 ,\n",
       "          0.12591523, -0.35063386],\n",
       "        [-0.04507923,  0.27030087, -0.00304413, ...,  0.360808  ,\n",
       "         -0.08761311,  0.3136413 ],\n",
       "        ...,\n",
       "        [ 0.25377274, -0.44674683,  0.21149254, ..., -0.54671633,\n",
       "          0.2899053 , -0.49073547],\n",
       "        [-0.20753765,  0.4047842 , -0.16448212, ...,  0.50322384,\n",
       "         -0.25319666,  0.45946497],\n",
       "        [ 0.16741562, -0.36826706,  0.12975502, ..., -0.47169995,\n",
       "          0.21174562, -0.41625273]],\n",
       "\n",
       "       [[ 0.08560753, -0.30860996,  0.04603195, ..., -0.39552045,\n",
       "          0.12792015, -0.35674608],\n",
       "        [-0.0446167 ,  0.27645016, -0.00938797, ...,  0.3735506 ,\n",
       "         -0.09003884,  0.32154995],\n",
       "        [ 0.0045948 , -0.2354517 , -0.04057312, ..., -0.32945508,\n",
       "          0.04668152, -0.28409493],\n",
       "        ...,\n",
       "        [-0.21747017,  0.42863083, -0.18044853, ...,  0.51720285,\n",
       "         -0.25152647,  0.46019238],\n",
       "        [ 0.16925812, -0.37730694,  0.13506699, ..., -0.4704132 ,\n",
       "          0.21066654, -0.42666602],\n",
       "        [-0.12500572,  0.3470564 , -0.09635735, ...,  0.44123888,\n",
       "         -0.1672616 ,  0.3940133 ]]], dtype=float32)"
      ]
     },
     "execution_count": 141,
     "metadata": {},
     "output_type": "execute_result"
    }
   ],
   "source": [
    "meshed_data."
   ]
  },
  {
   "cell_type": "code",
   "execution_count": 140,
   "id": "70d7611d-54fb-4c29-a1f7-3d7dfaab26ef",
   "metadata": {
    "execution": {
     "iopub.execute_input": "2021-09-27T03:45:47.526991Z",
     "iopub.status.busy": "2021-09-27T03:45:47.526746Z",
     "iopub.status.idle": "2021-09-27T03:45:47.532873Z",
     "shell.execute_reply": "2021-09-27T03:45:47.531741Z",
     "shell.execute_reply.started": "2021-09-27T03:45:47.526964Z"
    },
    "tags": []
   },
   "outputs": [
    {
     "data": {
      "text/plain": [
       "nbodykit.source.mesh.catalog.CatalogMesh"
      ]
     },
     "execution_count": 140,
     "metadata": {},
     "output_type": "execute_result"
    }
   ],
   "source": [
    "type(mesh)"
   ]
  },
  {
   "cell_type": "markdown",
   "id": "cffc1353-3b8c-487e-80e7-e40e1ee5827c",
   "metadata": {},
   "source": [
    "# Script (complete)\n",
    "We need to use **`MPI`** to speedup the whole process."
   ]
  },
  {
   "cell_type": "markdown",
   "id": "8cf29b71-81db-428e-9e22-1e2b3c7e2ee5",
   "metadata": {},
   "source": [
    "## dm particle position"
   ]
  },
  {
   "cell_type": "code",
   "execution_count": null,
   "id": "02d9d0d2-d9d1-4734-aae0-8961c3bef119",
   "metadata": {},
   "outputs": [],
   "source": [
    "import numpy as np\n",
    "import pyarrow.feather as feather\n",
    "from nbodykit.source.catalog import ArrayCatalog\n",
    "from nbodykit import setup_logging\n",
    "\n",
    "setup_logging(\"debug\")\n",
    "\n",
    "'''load data'''\n",
    "dm_df = feather.read_feather(\"./tmp_save/TNG-50-hydro-z0-dm-snap.df.feather\")\n",
    "\n",
    "'''make catalog for nbodykit\n",
    "Position[Mpc/h]: (x,y,z) We need to /1000 so that [kpc/h] -> [Mpc/h]\n",
    "'''\n",
    "h = 0.6774\n",
    "BoxSize = 35  # [Mpc/h]\n",
    "Nmesh = 64 * 10  # 10 mini-box\n",
    "cat = ArrayCatalog({\n",
    "    'Position': dm_df.loc[:,['x','y','z']].values/1000\n",
    "})\n",
    "\n",
    "'''paint on mesh!'''\n",
    "# convert to mesh object\n",
    "mesh = cat.to_mesh(BoxSize=BoxSize, Nmesh=Nmesh, value='Value',\n",
    "                   resampler='cic',compensated=True)\n",
    "# start paint value on mesh!!!\n",
    "meshed_data = mesh.paint(mode='real')\n",
    "\n",
    "'''save result'''\n",
    "np.save(\"./tmp_save/TNG-50-hydro-z0-dm-mesh-pos.npy\",meshed_data.value)"
   ]
  },
  {
   "cell_type": "code",
   "execution_count": 197,
   "id": "8ef948a5-4479-45fa-9a58-7d2085965565",
   "metadata": {
    "execution": {
     "iopub.execute_input": "2021-09-27T05:48:29.366334Z",
     "iopub.status.busy": "2021-09-27T05:48:29.366078Z",
     "iopub.status.idle": "2021-09-27T05:48:29.373905Z",
     "shell.execute_reply": "2021-09-27T05:48:29.372733Z",
     "shell.execute_reply.started": "2021-09-27T05:48:29.366306Z"
    },
    "tags": []
   },
   "outputs": [
    {
     "name": "stderr",
     "output_type": "stream",
     "text": [
      "<ipython-input-197-b947202c336f>:1: VisibleDeprecationWarning: Creating an ndarray from ragged nested sequences (which is a list-or-tuple of lists-or-tuples-or ndarrays with different lengths or shapes) is deprecated. If you meant to do this, you must specify 'dtype=object' when creating the ndarray\n",
      "  np.array([[1,2],[6,6,6,8]])#, dtype=object)\n"
     ]
    },
    {
     "data": {
      "text/plain": [
       "array([list([1, 2]), list([6, 6, 6, 8])], dtype=object)"
      ]
     },
     "execution_count": 197,
     "metadata": {},
     "output_type": "execute_result"
    }
   ],
   "source": [
    "np.array([[1,2],[6,6,6,8]])#, dtype=object)"
   ]
  },
  {
   "cell_type": "markdown",
   "id": "32796567-2bbc-423f-807e-2ac76846091e",
   "metadata": {},
   "source": [
    "## dm particle velocity"
   ]
  },
  {
   "cell_type": "code",
   "execution_count": null,
   "id": "844e01c9-cd7f-4ae5-81c3-96c96a23c879",
   "metadata": {},
   "outputs": [],
   "source": [
    "import numpy as np\n",
    "import pyarrow.feather as feather\n",
    "from nbodykit.source.catalog import ArrayCatalog\n",
    "from nbodykit import setup_logging\n",
    "\n",
    "setup_logging(\"debug\")\n",
    "\n",
    "'''load data'''\n",
    "dm_df = feather.read_feather(\"./tmp_save/TNG-50-hydro-z0-dm-snap.df.feather\")\n",
    "\n",
    "'''make catalog for nbodykit\n",
    "Position[Mpc/h]: (x,y,z) We need to /1000 so that [kpc/h] -> [Mpc/h]\n",
    "'''\n",
    "BoxSize = 35  # [Mpc/h]\n",
    "Nmesh = 64 * 10  # 10 mini-box\n",
    "cat = ArrayCatalog({\n",
    "    'Position': dm_df.loc[:,['x','y','z']].values/1000,\n",
    "    'vx': dm_df.loc[:,['vx']].values[:,0],\n",
    "    'vy': dm_df.loc[:,['vy']].values[:,0],\n",
    "    'vz': dm_df.loc[:,['vz']].values[:,0]\n",
    "})\n",
    "\n",
    "'''paint on mesh!'''\n",
    "# convert to mesh object\n",
    "mesh = cat.to_mesh(BoxSize=BoxSize, Nmesh=Nmesh,\n",
    "                   resampler='nearest')\n",
    "meshx = cat.to_mesh(BoxSize=BoxSize, Nmesh=Nmesh, value='vx', \n",
    "                    resampler='nearest')\n",
    "meshy = cat.to_mesh(BoxSize=BoxSize, Nmesh=Nmesh, value='vy', \n",
    "                    resampler='nearest')\n",
    "meshz = cat.to_mesh(BoxSize=BoxSize, Nmesh=Nmesh, value='vz', \n",
    "                    resampler='nearest')\n",
    "# start paint value on mesh!!!\n",
    "meshed = mesh.paint(mode='real')\n",
    "meshed_x = meshx.paint(mode='real')\n",
    "meshed_y = meshy.paint(mode='real')\n",
    "meshed_z = meshz.paint(mode='real')\n",
    "\n",
    "'''save result'''\n",
    "np.save(\"./tmp_save/TNG-50-hydro-z0-dm-mesh-v-num.npy\",meshed.value)\n",
    "np.save(\"./tmp_save/TNG-50-hydro-z0-dm-mesh-vx.npy\",meshed_x.value)\n",
    "np.save(\"./tmp_save/TNG-50-hydro-z0-dm-mesh-vy.npy\",meshed_y.value)\n",
    "np.save(\"./tmp_save/TNG-50-hydro-z0-dm-mesh-vz.npy\",meshed_z.value)"
   ]
  },
  {
   "cell_type": "markdown",
   "id": "42f19e02-847d-42ec-b3d3-0c672e9d245d",
   "metadata": {
    "execution": {
     "iopub.execute_input": "2021-09-27T03:34:53.940389Z",
     "iopub.status.busy": "2021-09-27T03:34:53.940093Z",
     "iopub.status.idle": "2021-09-27T03:34:53.944485Z",
     "shell.execute_reply": "2021-09-27T03:34:53.943284Z",
     "shell.execute_reply.started": "2021-09-27T03:34:53.940362Z"
    }
   },
   "source": [
    "## subhalo properties"
   ]
  },
  {
   "cell_type": "code",
   "execution_count": null,
   "id": "4ad9c514-2722-445d-ac11-5ac2130f0d83",
   "metadata": {},
   "outputs": [],
   "source": [
    "import numpy as np\n",
    "import pyarrow.feather as feather\n",
    "from nbodykit.source.catalog import ArrayCatalog\n",
    "from nbodykit import setup_logging\n",
    "\n",
    "setup_logging(\"debug\")\n",
    "\n",
    "'''load data'''\n",
    "subhalo_df = feather.read_feather(\"./tmp_save/TNG-50-hydro-z0-subhalo-catalog.df.feather\")\n",
    "\n",
    "'''make catalog for nbodykit\n",
    "Position[Mpc/h]: (x,y,z) We need to /1000 so that [kpc/h] -> [Mpc/h]\n",
    "'''\n",
    "BoxSize = 35  # [Mpc/h]\n",
    "Nmesh = 64 * 10  # 10 mini-box\n",
    "cat = ArrayCatalog({\n",
    "    'Position': subhalo_df.loc[:,['SubhaloPos_x','SubhaloPos_y','SubhaloPos_z']].values/1000\n",
    "})\n",
    "subhalo_df.drop(columns=['SubhaloLen','SubhaloGrNr','SubhaloPos_x','SubhaloPos_y','SubhaloPos_z'],inplace=True)\n",
    "keys = subhalo_df.columns.to_list()\n",
    "for key in keys:\n",
    "    cat[key] = subhalo_df.loc[:,key].values\n",
    "    pass\n",
    "\n",
    "'''paint to mesh'''\n",
    "def _goto_mesh(key):\n",
    "    if key == 'Position':\n",
    "        value = 'Value'\n",
    "    else:\n",
    "        value = key\n",
    "    mesh = cat.to_mesh(BoxSize=BoxSize, Nmesh=Nmesh, resampler='nearest', value=value)\n",
    "    meshed = mesh.paint(mode='real')\n",
    "    np.save(f\"./tmp_save/TNG-50-hydro-z0-subhalo-{key}.npy\",meshed.value)\n",
    "    return\n",
    "\n",
    "'''multiprocessing'''\n",
    "#************************************************************************************\n",
    "from multiprocessing import Pool\n",
    "from time import time\n",
    "\n",
    "pool = Pool(processes=len(keys))\n",
    "time_start = time()\n",
    "\n",
    "tmp_data = list(pool.map(\n",
    "    _goto_mesh,\n",
    "    keys + ['Position']\n",
    "))\n",
    "\n",
    "pool.close()\n",
    "pool.join()\n",
    "print(f\"Done in {time() - time_start} second\")\n",
    "#************************************************************************************"
   ]
  },
  {
   "cell_type": "markdown",
   "id": "c728d24c-8e1e-43a2-90ac-52e28e50bab2",
   "metadata": {},
   "source": [
    "# check data"
   ]
  },
  {
   "cell_type": "code",
   "execution_count": 48,
   "id": "bd620570-9562-4156-a08e-4aa192ebd01e",
   "metadata": {
    "execution": {
     "iopub.execute_input": "2021-09-27T13:38:08.014114Z",
     "iopub.status.busy": "2021-09-27T13:38:08.013817Z",
     "iopub.status.idle": "2021-09-27T13:38:08.039171Z",
     "shell.execute_reply": "2021-09-27T13:38:08.038105Z",
     "shell.execute_reply.started": "2021-09-27T13:38:08.014074Z"
    },
    "tags": []
   },
   "outputs": [
    {
     "data": {
      "text/html": [
       "<div>\n",
       "<style scoped>\n",
       "    .dataframe tbody tr th:only-of-type {\n",
       "        vertical-align: middle;\n",
       "    }\n",
       "\n",
       "    .dataframe tbody tr th {\n",
       "        vertical-align: top;\n",
       "    }\n",
       "\n",
       "    .dataframe thead th {\n",
       "        text-align: right;\n",
       "    }\n",
       "</style>\n",
       "<table border=\"1\" class=\"dataframe\">\n",
       "  <thead>\n",
       "    <tr style=\"text-align: right;\">\n",
       "      <th></th>\n",
       "      <th>x</th>\n",
       "      <th>y</th>\n",
       "      <th>z</th>\n",
       "      <th>vx</th>\n",
       "      <th>vy</th>\n",
       "      <th>vz</th>\n",
       "    </tr>\n",
       "  </thead>\n",
       "  <tbody>\n",
       "    <tr>\n",
       "      <th>0</th>\n",
       "      <td>7320.396768</td>\n",
       "      <td>24545.045533</td>\n",
       "      <td>21301.742153</td>\n",
       "      <td>-2.724034</td>\n",
       "      <td>-130.237595</td>\n",
       "      <td>194.834244</td>\n",
       "    </tr>\n",
       "    <tr>\n",
       "      <th>1</th>\n",
       "      <td>7320.019628</td>\n",
       "      <td>24545.882536</td>\n",
       "      <td>21301.716311</td>\n",
       "      <td>-57.519440</td>\n",
       "      <td>-87.426674</td>\n",
       "      <td>-156.271713</td>\n",
       "    </tr>\n",
       "    <tr>\n",
       "      <th>2</th>\n",
       "      <td>7319.812123</td>\n",
       "      <td>24545.252989</td>\n",
       "      <td>21301.910024</td>\n",
       "      <td>11.053613</td>\n",
       "      <td>148.860748</td>\n",
       "      <td>193.462601</td>\n",
       "    </tr>\n",
       "    <tr>\n",
       "      <th>3</th>\n",
       "      <td>7320.773122</td>\n",
       "      <td>24545.727954</td>\n",
       "      <td>21301.824647</td>\n",
       "      <td>40.403690</td>\n",
       "      <td>146.931046</td>\n",
       "      <td>-175.367508</td>\n",
       "    </tr>\n",
       "    <tr>\n",
       "      <th>4</th>\n",
       "      <td>7319.902249</td>\n",
       "      <td>24545.577239</td>\n",
       "      <td>21301.963429</td>\n",
       "      <td>-352.747528</td>\n",
       "      <td>-20.196817</td>\n",
       "      <td>92.991341</td>\n",
       "    </tr>\n",
       "  </tbody>\n",
       "</table>\n",
       "</div>"
      ],
      "text/plain": [
       "             x             y             z          vx          vy          vz\n",
       "0  7320.396768  24545.045533  21301.742153   -2.724034 -130.237595  194.834244\n",
       "1  7320.019628  24545.882536  21301.716311  -57.519440  -87.426674 -156.271713\n",
       "2  7319.812123  24545.252989  21301.910024   11.053613  148.860748  193.462601\n",
       "3  7320.773122  24545.727954  21301.824647   40.403690  146.931046 -175.367508\n",
       "4  7319.902249  24545.577239  21301.963429 -352.747528  -20.196817   92.991341"
      ]
     },
     "execution_count": 48,
     "metadata": {},
     "output_type": "execute_result"
    }
   ],
   "source": [
    "dm_df[:5]"
   ]
  },
  {
   "cell_type": "code",
   "execution_count": 50,
   "id": "4d98b6e4-91b1-4de0-90bd-ee3fafd1b50f",
   "metadata": {
    "execution": {
     "iopub.execute_input": "2021-09-27T13:38:46.450227Z",
     "iopub.status.busy": "2021-09-27T13:38:46.449943Z",
     "iopub.status.idle": "2021-09-27T13:53:05.975120Z",
     "shell.execute_reply": "2021-09-27T13:53:05.973586Z",
     "shell.execute_reply.started": "2021-09-27T13:38:46.450184Z"
    },
    "tags": []
   },
   "outputs": [
    {
     "data": {
      "text/html": [
       "<div>\n",
       "<style scoped>\n",
       "    .dataframe tbody tr th:only-of-type {\n",
       "        vertical-align: middle;\n",
       "    }\n",
       "\n",
       "    .dataframe tbody tr th {\n",
       "        vertical-align: top;\n",
       "    }\n",
       "\n",
       "    .dataframe thead th {\n",
       "        text-align: right;\n",
       "    }\n",
       "</style>\n",
       "<table border=\"1\" class=\"dataframe\">\n",
       "  <thead>\n",
       "    <tr style=\"text-align: right;\">\n",
       "      <th></th>\n",
       "      <th>x</th>\n",
       "      <th>y</th>\n",
       "      <th>z</th>\n",
       "      <th>vx</th>\n",
       "      <th>vy</th>\n",
       "      <th>vz</th>\n",
       "    </tr>\n",
       "  </thead>\n",
       "  <tbody>\n",
       "    <tr>\n",
       "      <th>count</th>\n",
       "      <td>1.259712e+09</td>\n",
       "      <td>1.259712e+09</td>\n",
       "      <td>1.259712e+09</td>\n",
       "      <td>1.259712e+09</td>\n",
       "      <td>1.259712e+09</td>\n",
       "      <td>1.259712e+09</td>\n",
       "    </tr>\n",
       "    <tr>\n",
       "      <th>mean</th>\n",
       "      <td>1.709974e+04</td>\n",
       "      <td>1.737814e+04</td>\n",
       "      <td>1.702135e+04</td>\n",
       "      <td>4.525835e-02</td>\n",
       "      <td>3.388255e-02</td>\n",
       "      <td>-3.038954e-01</td>\n",
       "    </tr>\n",
       "    <tr>\n",
       "      <th>std</th>\n",
       "      <td>1.003222e+04</td>\n",
       "      <td>9.724288e+03</td>\n",
       "      <td>1.002110e+04</td>\n",
       "      <td>2.036886e+02</td>\n",
       "      <td>2.137296e+02</td>\n",
       "      <td>2.165134e+02</td>\n",
       "    </tr>\n",
       "    <tr>\n",
       "      <th>min</th>\n",
       "      <td>8.414744e-05</td>\n",
       "      <td>7.525694e-06</td>\n",
       "      <td>8.868046e-05</td>\n",
       "      <td>-2.474417e+03</td>\n",
       "      <td>-2.431699e+03</td>\n",
       "      <td>-2.485609e+03</td>\n",
       "    </tr>\n",
       "    <tr>\n",
       "      <th>25%</th>\n",
       "      <td>7.723628e+03</td>\n",
       "      <td>7.909365e+03</td>\n",
       "      <td>7.429681e+03</td>\n",
       "      <td>-9.563354e+01</td>\n",
       "      <td>-1.010694e+02</td>\n",
       "      <td>-1.019700e+02</td>\n",
       "    </tr>\n",
       "    <tr>\n",
       "      <th>50%</th>\n",
       "      <td>1.753870e+04</td>\n",
       "      <td>1.866768e+04</td>\n",
       "      <td>1.753095e+04</td>\n",
       "      <td>-3.890373e+00</td>\n",
       "      <td>-4.759888e+00</td>\n",
       "      <td>3.337295e+00</td>\n",
       "    </tr>\n",
       "    <tr>\n",
       "      <th>75%</th>\n",
       "      <td>2.497681e+04</td>\n",
       "      <td>2.503807e+04</td>\n",
       "      <td>2.522743e+04</td>\n",
       "      <td>9.500478e+01</td>\n",
       "      <td>9.917582e+01</td>\n",
       "      <td>1.037777e+02</td>\n",
       "    </tr>\n",
       "    <tr>\n",
       "      <th>max</th>\n",
       "      <td>3.500000e+04</td>\n",
       "      <td>3.500000e+04</td>\n",
       "      <td>3.500000e+04</td>\n",
       "      <td>2.374072e+03</td>\n",
       "      <td>2.395897e+03</td>\n",
       "      <td>2.359285e+03</td>\n",
       "    </tr>\n",
       "  </tbody>\n",
       "</table>\n",
       "</div>"
      ],
      "text/plain": [
       "                  x             y             z            vx            vy  \\\n",
       "count  1.259712e+09  1.259712e+09  1.259712e+09  1.259712e+09  1.259712e+09   \n",
       "mean   1.709974e+04  1.737814e+04  1.702135e+04  4.525835e-02  3.388255e-02   \n",
       "std    1.003222e+04  9.724288e+03  1.002110e+04  2.036886e+02  2.137296e+02   \n",
       "min    8.414744e-05  7.525694e-06  8.868046e-05 -2.474417e+03 -2.431699e+03   \n",
       "25%    7.723628e+03  7.909365e+03  7.429681e+03 -9.563354e+01 -1.010694e+02   \n",
       "50%    1.753870e+04  1.866768e+04  1.753095e+04 -3.890373e+00 -4.759888e+00   \n",
       "75%    2.497681e+04  2.503807e+04  2.522743e+04  9.500478e+01  9.917582e+01   \n",
       "max    3.500000e+04  3.500000e+04  3.500000e+04  2.374072e+03  2.395897e+03   \n",
       "\n",
       "                 vz  \n",
       "count  1.259712e+09  \n",
       "mean  -3.038954e-01  \n",
       "std    2.165134e+02  \n",
       "min   -2.485609e+03  \n",
       "25%   -1.019700e+02  \n",
       "50%    3.337295e+00  \n",
       "75%    1.037777e+02  \n",
       "max    2.359285e+03  "
      ]
     },
     "execution_count": 50,
     "metadata": {},
     "output_type": "execute_result"
    }
   ],
   "source": [
    "dm_df.describe()"
   ]
  },
  {
   "cell_type": "code",
   "execution_count": 75,
   "id": "de57e407-da41-4584-ad4a-09e241963f72",
   "metadata": {
    "execution": {
     "iopub.execute_input": "2021-09-28T07:10:02.036680Z",
     "iopub.status.busy": "2021-09-28T07:10:02.036437Z",
     "iopub.status.idle": "2021-09-28T07:10:02.968031Z",
     "shell.execute_reply": "2021-09-28T07:10:02.965780Z",
     "shell.execute_reply.started": "2021-09-28T07:10:02.036650Z"
    },
    "tags": []
   },
   "outputs": [],
   "source": [
    "dm_test = np.load('./tmp_save/TNG-50-hydro-z0-dm-mesh-pos.npy')"
   ]
  },
  {
   "cell_type": "code",
   "execution_count": 77,
   "id": "bba28108-6200-4329-a1e7-e7dd149f3502",
   "metadata": {
    "execution": {
     "iopub.execute_input": "2021-09-28T07:10:25.009977Z",
     "iopub.status.busy": "2021-09-28T07:10:25.009697Z",
     "iopub.status.idle": "2021-09-28T07:10:25.096407Z",
     "shell.execute_reply": "2021-09-28T07:10:25.094845Z",
     "shell.execute_reply.started": "2021-09-28T07:10:25.009940Z"
    },
    "tags": []
   },
   "outputs": [
    {
     "data": {
      "text/plain": [
       "117846.77"
      ]
     },
     "execution_count": 77,
     "metadata": {},
     "output_type": "execute_result"
    }
   ],
   "source": [
    "dm_test.max()"
   ]
  },
  {
   "cell_type": "code",
   "execution_count": 28,
   "id": "6a97d953-a1a5-4f2a-b7c9-6c673e4e669e",
   "metadata": {
    "execution": {
     "iopub.execute_input": "2021-09-27T10:41:45.791404Z",
     "iopub.status.busy": "2021-09-27T10:41:45.791165Z",
     "iopub.status.idle": "2021-09-27T10:49:39.654900Z",
     "shell.execute_reply": "2021-09-27T10:49:39.653327Z",
     "shell.execute_reply.started": "2021-09-27T10:41:45.791376Z"
    },
    "tags": []
   },
   "outputs": [
    {
     "data": {
      "image/png": "[encoded data removed]",
      "text/plain": [
       "<Figure size 576x432 with 1 Axes>"
      ]
     },
     "metadata": {
      "needs_background": "light"
     },
     "output_type": "display_data"
    }
   ],
   "source": [
    "# dm_test = np.random.random((16,16,16))\n",
    "\n",
    "idxs = list(itertools.product(range(dm_test.shape[0]),repeat=3))\n",
    "colors = np.array([dm_test[idx] for idx in idxs])\n",
    "\n",
    "sel_idx = np.random.randint(0,dm_test.size,10000)\n",
    "idxs = np.array(idxs)[sel_idx].tolist()\n",
    "colors = colors[sel_idx]\n",
    "\n",
    "x,y,z = np.hsplit(np.array(idxs),3)\n",
    "\n",
    "plt.figure(figsize=(8,6))\n",
    "ax = plt.axes(projection='3d')\n",
    "ax.scatter3D(x, y, z, c=colors, cmap='Greens')\n",
    "plt.show()"
   ]
  },
  {
   "cell_type": "code",
   "execution_count": null,
   "id": "db394803-adb3-45a8-851c-7665ba163bb3",
   "metadata": {},
   "outputs": [],
   "source": [
    "from nbodykit.lab import LinearMesh, cosmology\n",
    "from matplotlib import pyplot as plt\n",
    "\n",
    "cosmo = cosmology.Planck15\n",
    "Plin = cosmology.LinearPower(cosmo, redshift=0, transfer='EisensteinHu')\n",
    "\n",
    "# initialize the mesh\n",
    "mesh = LinearMesh(Plin, Nmesh=128, BoxSize=1380, seed=42)\n",
    "\n",
    "# preview the density field\n",
    "plt.imshow(mesh.preview(axes=[0,1]))"
   ]
  },
  {
   "cell_type": "code",
   "execution_count": 83,
   "id": "5da73aff-ef3c-413b-86cd-2ee7477978e6",
   "metadata": {
    "execution": {
     "iopub.execute_input": "2021-09-28T09:04:48.652025Z",
     "iopub.status.busy": "2021-09-28T09:04:48.651760Z",
     "iopub.status.idle": "2021-09-28T09:04:49.545242Z",
     "shell.execute_reply": "2021-09-28T09:04:49.543099Z",
     "shell.execute_reply.started": "2021-09-28T09:04:48.651978Z"
    }
   },
   "outputs": [],
   "source": [
    "'''check subhalo to mesh'''\n",
    "subhalo_test = np.load(\"./tmp_save/subhalo.v1/TNG-50-hydro-z0-subhalo-SubhaloSFR.npy\")"
   ]
  },
  {
   "cell_type": "code",
   "execution_count": 86,
   "id": "3831e032-8a8d-4308-a4e6-cd42abe35d54",
   "metadata": {
    "execution": {
     "iopub.execute_input": "2021-09-28T09:05:05.300316Z",
     "iopub.status.busy": "2021-09-28T09:05:05.300033Z",
     "iopub.status.idle": "2021-09-28T09:05:05.386586Z",
     "shell.execute_reply": "2021-09-28T09:05:05.385021Z",
     "shell.execute_reply.started": "2021-09-28T09:05:05.300276Z"
    },
    "tags": []
   },
   "outputs": [
    {
     "data": {
      "text/plain": [
       "11071.792"
      ]
     },
     "execution_count": 86,
     "metadata": {},
     "output_type": "execute_result"
    }
   ],
   "source": [
    "subhalo_test.max()"
   ]
  },
  {
   "cell_type": "code",
   "execution_count": 87,
   "id": "0022db08-6250-4cea-ad67-e2ae18de58b4",
   "metadata": {
    "execution": {
     "iopub.execute_input": "2021-09-28T09:05:50.066082Z",
     "iopub.status.busy": "2021-09-28T09:05:50.065785Z",
     "iopub.status.idle": "2021-09-28T09:05:50.156308Z",
     "shell.execute_reply": "2021-09-28T09:05:50.154078Z",
     "shell.execute_reply.started": "2021-09-28T09:05:50.066041Z"
    },
    "tags": []
   },
   "outputs": [],
   "source": [
    "subhalo_df = feather.read_feather(\"./tmp_save/TNG-50-hydro-z0-subhalo-catalog.df.feather\")"
   ]
  },
  {
   "cell_type": "code",
   "execution_count": 93,
   "id": "2ec08718-8762-4029-9846-dbba043baedb",
   "metadata": {
    "execution": {
     "iopub.execute_input": "2021-09-28T09:12:33.542204Z",
     "iopub.status.busy": "2021-09-28T09:12:33.541979Z",
     "iopub.status.idle": "2021-09-28T09:12:33.548362Z",
     "shell.execute_reply": "2021-09-28T09:12:33.547343Z",
     "shell.execute_reply.started": "2021-09-28T09:12:33.542177Z"
    },
    "tags": []
   },
   "outputs": [
    {
     "data": {
      "text/plain": [
       "Index(['SubhaloGrNr', 'SubhaloPos_x', 'SubhaloPos_y', 'SubhaloPos_z',\n",
       "       'SubhaloVel_x', 'SubhaloVel_y', 'SubhaloVel_z', 'SubhaloLen',\n",
       "       'SubhaloMass', 'SubhaloMassInRad', 'SubhaloSFR', 'SubhaloSpin_x',\n",
       "       'SubhaloSpin_y', 'SubhaloSpin_z', 'SubhaloHalfmassRad',\n",
       "       'SubhaloStellarPhotometricsRad', 'SubhaloVelDisp', 'SubhaloVmax',\n",
       "       'SubhaloBHMass', 'SubhaloBHMdot', 'SubhaloBfldHalo',\n",
       "       'SubhaloGasMetallicity', 'SubhaloStarMetallicity',\n",
       "       'SubhaloGasMetalFractions_H', 'SubhaloStarMetalFractions_H',\n",
       "       'SubhaloStellarPhotometrics_U', 'SubhaloStellarPhotometrics_B',\n",
       "       'SubhaloStellarPhotometrics_V', 'SubhaloStellarPhotometrics_K',\n",
       "       'SubhaloStellarPhotometrics_g', 'SubhaloStellarPhotometrics_r',\n",
       "       'SubhaloStellarPhotometrics_i', 'SubhaloStellarPhotometrics_z'],\n",
       "      dtype='object')"
      ]
     },
     "execution_count": 93,
     "metadata": {},
     "output_type": "execute_result"
    }
   ],
   "source": [
    "subhalo_df.columns"
   ]
  },
  {
   "cell_type": "code",
   "execution_count": 89,
   "id": "344c7438-ddf0-4660-9701-cdd8555902ae",
   "metadata": {
    "execution": {
     "iopub.execute_input": "2021-09-28T09:10:48.085898Z",
     "iopub.status.busy": "2021-09-28T09:10:48.085622Z",
     "iopub.status.idle": "2021-09-28T09:10:48.094778Z",
     "shell.execute_reply": "2021-09-28T09:10:48.093684Z",
     "shell.execute_reply.started": "2021-09-28T09:10:48.085860Z"
    },
    "tags": []
   },
   "outputs": [
    {
     "data": {
      "text/plain": [
       "array([-24.730139, -21.775595, -21.48687 , ...,  -8.486084,  -8.542626,\n",
       "        -8.324519], dtype=float32)"
      ]
     },
     "execution_count": 89,
     "metadata": {},
     "output_type": "execute_result"
    }
   ],
   "source": [
    "tmp = subhalo_df['SubhaloStellarPhotometrics_g'].values\n"
   ]
  },
  {
   "cell_type": "code",
   "execution_count": 91,
   "id": "8394774a-360c-4eb8-acfe-7481949d828f",
   "metadata": {
    "execution": {
     "iopub.execute_input": "2021-09-28T09:11:15.368720Z",
     "iopub.status.busy": "2021-09-28T09:11:15.368484Z",
     "iopub.status.idle": "2021-09-28T09:11:15.375605Z",
     "shell.execute_reply": "2021-09-28T09:11:15.374574Z",
     "shell.execute_reply.started": "2021-09-28T09:11:15.368692Z"
    },
    "tags": []
   },
   "outputs": [
    {
     "data": {
      "text/plain": [
       "-6.128654"
      ]
     },
     "execution_count": 91,
     "metadata": {},
     "output_type": "execute_result"
    }
   ],
   "source": [
    "tmp[tmp<100].max()"
   ]
  },
  {
   "cell_type": "code",
   "execution_count": 96,
   "id": "9a59007b-0dfb-4c59-a044-8238d93f3a22",
   "metadata": {
    "execution": {
     "iopub.execute_input": "2021-09-28T09:23:45.376346Z",
     "iopub.status.busy": "2021-09-28T09:23:45.376080Z",
     "iopub.status.idle": "2021-09-28T09:23:47.055559Z",
     "shell.execute_reply": "2021-09-28T09:23:47.053359Z",
     "shell.execute_reply.started": "2021-09-28T09:23:45.376304Z"
    },
    "tags": []
   },
   "outputs": [],
   "source": [
    "tmp1 = np.load('./tmp_save/TNG-50-hydro-z0-subhalo-SubhaloStellarPhotometrics_K.npy')\n",
    "tmp2 = np.load('./tmp_save/subhalo.v1/TNG-50-hydro-z0-subhalo-SubhaloStellarPhotometrics_K.npy')"
   ]
  },
  {
   "cell_type": "code",
   "execution_count": 100,
   "id": "776017b9-e303-428b-ba1a-f3e3c11d8052",
   "metadata": {
    "execution": {
     "iopub.execute_input": "2021-09-28T09:24:01.795137Z",
     "iopub.status.busy": "2021-09-28T09:24:01.794858Z",
     "iopub.status.idle": "2021-09-28T09:24:01.881168Z",
     "shell.execute_reply": "2021-09-28T09:24:01.879586Z",
     "shell.execute_reply.started": "2021-09-28T09:24:01.795099Z"
    },
    "tags": []
   },
   "outputs": [
    {
     "data": {
      "text/plain": [
       "-25858.58"
      ]
     },
     "execution_count": 100,
     "metadata": {},
     "output_type": "execute_result"
    }
   ],
   "source": [
    "tmp1.min()"
   ]
  },
  {
   "cell_type": "code",
   "execution_count": 102,
   "id": "44733f14-24d5-4680-8318-0fbf0483081d",
   "metadata": {
    "execution": {
     "iopub.execute_input": "2021-10-24T17:17:31.002085Z",
     "iopub.status.busy": "2021-10-24T17:17:31.001775Z",
     "iopub.status.idle": "2021-10-24T17:17:35.703389Z",
     "shell.execute_reply": "2021-10-24T17:17:35.701210Z",
     "shell.execute_reply.started": "2021-10-24T17:17:31.002047Z"
    },
    "tags": []
   },
   "outputs": [],
   "source": [
    "tmp1 = np.load('./tmp_save/TNG-50-hydro-z0-subhalo-SubhaloBHMdot.npy')\n",
    "tmp2 = np.load('./tmp_save/subhalo.v1/TNG-50-hydro-z0-subhalo-SubhaloBHMdot.npy')"
   ]
  },
  {
   "cell_type": "code",
   "execution_count": 118,
   "id": "f02705e9-1e8b-477d-9a8c-bc451b70b3b2",
   "metadata": {
    "execution": {
     "iopub.execute_input": "2021-10-25T03:55:49.921077Z",
     "iopub.status.busy": "2021-10-25T03:55:49.920788Z",
     "iopub.status.idle": "2021-10-25T03:55:54.391015Z",
     "shell.execute_reply": "2021-10-25T03:55:54.388833Z",
     "shell.execute_reply.started": "2021-10-25T03:55:49.921034Z"
    },
    "tags": []
   },
   "outputs": [],
   "source": [
    "subhalomass = np.load('./tmp_save/TNG-50-hydro-z0-subhalo-SubhaloMass.npy')\n",
    "subhalonums = np.load('./tmp_save/TNG-50-hydro-z0-subhalo-Position.npy')"
   ]
  },
  {
   "cell_type": "code",
   "execution_count": 139,
   "id": "87590f34-6a4e-4821-9799-e4549477df30",
   "metadata": {
    "execution": {
     "iopub.execute_input": "2021-10-25T04:31:14.727893Z",
     "iopub.status.busy": "2021-10-25T04:31:14.727621Z",
     "iopub.status.idle": "2021-10-25T04:31:16.555531Z",
     "shell.execute_reply": "2021-10-25T04:31:16.553259Z",
     "shell.execute_reply.started": "2021-10-25T04:31:14.727849Z"
    },
    "tags": []
   },
   "outputs": [],
   "source": [
    "dmvelx = np.load('./tmp_save/TNG-50-hydro-z0-dm-mesh-vx.npy')\n",
    "dmnums = np.load('./tmp_save/TNG-50-hydro-z0-dm-mesh-v-num.npy')"
   ]
  },
  {
   "cell_type": "code",
   "execution_count": 155,
   "id": "9e792167-a29d-4d1b-9cd9-88b7566337b8",
   "metadata": {
    "execution": {
     "iopub.execute_input": "2021-10-25T05:26:09.037479Z",
     "iopub.status.busy": "2021-10-25T05:26:09.037194Z",
     "iopub.status.idle": "2021-10-25T05:26:09.123576Z",
     "shell.execute_reply": "2021-10-25T05:26:09.121771Z",
     "shell.execute_reply.started": "2021-10-25T05:26:09.037438Z"
    },
    "tags": []
   },
   "outputs": [
    {
     "data": {
      "text/plain": [
       "151977.36"
      ]
     },
     "execution_count": 155,
     "metadata": {},
     "output_type": "execute_result"
    }
   ],
   "source": [
    "dmnums.max()"
   ]
  },
  {
   "cell_type": "code",
   "execution_count": 157,
   "id": "8c4c4579-b892-422a-a644-54a79559f5c0",
   "metadata": {
    "execution": {
     "iopub.execute_input": "2021-10-25T05:32:22.525292Z",
     "iopub.status.busy": "2021-10-25T05:32:22.525049Z",
     "iopub.status.idle": "2021-10-25T05:32:22.531821Z",
     "shell.execute_reply": "2021-10-25T05:32:22.530734Z",
     "shell.execute_reply.started": "2021-10-25T05:32:22.525264Z"
    },
    "tags": []
   },
   "outputs": [
    {
     "data": {
      "text/plain": [
       "<function dict.keys>"
      ]
     },
     "execution_count": 157,
     "metadata": {},
     "output_type": "execute_result"
    }
   ],
   "source": [
    "INPUT = {\n",
    "    'dm_velx': 'TNG-50-hydro-z0-dm-mesh-vx.npy',\n",
    "    'dm_vely': 'TNG-50-hydro-z0-dm-mesh-vy.npy',\n",
    "    'dm_velz': 'TNG-50-hydro-z0-dm-mesh-vz.npy',\n",
    "    'dm_mass': 'TNG-50-hydro-z0-dm-mesh-v-num.npy'\n",
    "}\n",
    "INPUT.keys"
   ]
  },
  {
   "cell_type": "code",
   "execution_count": 119,
   "id": "78b36c38-2435-4d41-8a78-8660d23c11b6",
   "metadata": {
    "execution": {
     "iopub.execute_input": "2021-10-25T03:56:45.533691Z",
     "iopub.status.busy": "2021-10-25T03:56:45.533426Z",
     "iopub.status.idle": "2021-10-25T03:56:48.008202Z",
     "shell.execute_reply": "2021-10-25T03:56:48.006002Z",
     "shell.execute_reply.started": "2021-10-25T03:56:45.533650Z"
    },
    "tags": []
   },
   "outputs": [
    {
     "name": "stderr",
     "output_type": "stream",
     "text": [
      "<ipython-input-119-1722db642511>:1: RuntimeWarning: invalid value encountered in true_divide\n",
      "  subhalomass_avg = np.divide(subhalomass, subhalonums)\n"
     ]
    }
   ],
   "source": [
    "subhalomass_avg = np.divide(subhalomass, subhalonums)"
   ]
  },
  {
   "cell_type": "code",
   "execution_count": 143,
   "id": "a2701eac-5ec7-48d1-abb0-6a755c3a8544",
   "metadata": {
    "execution": {
     "iopub.execute_input": "2021-10-25T04:32:32.236730Z",
     "iopub.status.busy": "2021-10-25T04:32:32.236498Z",
     "iopub.status.idle": "2021-10-25T04:32:32.725778Z",
     "shell.execute_reply": "2021-10-25T04:32:32.723602Z",
     "shell.execute_reply.started": "2021-10-25T04:32:32.236702Z"
    },
    "tags": []
   },
   "outputs": [
    {
     "name": "stderr",
     "output_type": "stream",
     "text": [
      "<ipython-input-143-36b2ba3b5080>:1: RuntimeWarning: invalid value encountered in true_divide\n",
      "  dmvelx_avg = np.divide(dmvelx, dmnums)\n"
     ]
    }
   ],
   "source": [
    "dmvelx_avg = np.divide(dmvelx, dmnums)"
   ]
  },
  {
   "cell_type": "code",
   "execution_count": 123,
   "id": "514d4e96-aa46-4c36-8418-fe544275bd00",
   "metadata": {
    "collapsed": true,
    "execution": {
     "iopub.execute_input": "2021-10-25T03:59:30.305683Z",
     "iopub.status.busy": "2021-10-25T03:59:30.305460Z",
     "iopub.status.idle": "2021-10-25T03:59:37.327972Z",
     "shell.execute_reply": "2021-10-25T03:59:37.326384Z",
     "shell.execute_reply.started": "2021-10-25T03:59:30.305657Z"
    },
    "jupyter": {
     "outputs_hidden": true
    },
    "tags": []
   },
   "outputs": [
    {
     "data": {
      "text/plain": [
       "array([[[0., 0., 0., ..., 0., 0., 0.],\n",
       "        [0., 0., 0., ..., 0., 0., 0.],\n",
       "        [0., 0., 0., ..., 0., 0., 0.],\n",
       "        ...,\n",
       "        [0., 0., 0., ..., 0., 0., 0.],\n",
       "        [0., 0., 0., ..., 0., 0., 0.],\n",
       "        [0., 0., 0., ..., 0., 0., 0.]],\n",
       "\n",
       "       [[0., 0., 0., ..., 0., 0., 0.],\n",
       "        [0., 0., 0., ..., 0., 0., 0.],\n",
       "        [0., 0., 0., ..., 0., 0., 0.],\n",
       "        ...,\n",
       "        [0., 0., 0., ..., 0., 0., 0.],\n",
       "        [0., 0., 0., ..., 0., 0., 0.],\n",
       "        [0., 0., 0., ..., 0., 0., 0.]],\n",
       "\n",
       "       [[0., 0., 0., ..., 0., 0., 0.],\n",
       "        [0., 0., 0., ..., 0., 0., 0.],\n",
       "        [0., 0., 0., ..., 0., 0., 0.],\n",
       "        ...,\n",
       "        [0., 0., 0., ..., 0., 0., 0.],\n",
       "        [0., 0., 0., ..., 0., 0., 0.],\n",
       "        [0., 0., 0., ..., 0., 0., 0.]],\n",
       "\n",
       "       ...,\n",
       "\n",
       "       [[0., 0., 0., ..., 0., 0., 0.],\n",
       "        [0., 0., 0., ..., 0., 0., 0.],\n",
       "        [0., 0., 0., ..., 0., 0., 0.],\n",
       "        ...,\n",
       "        [0., 0., 0., ..., 0., 0., 0.],\n",
       "        [0., 0., 0., ..., 0., 0., 0.],\n",
       "        [0., 0., 0., ..., 0., 0., 0.]],\n",
       "\n",
       "       [[0., 0., 0., ..., 0., 0., 0.],\n",
       "        [0., 0., 0., ..., 0., 0., 0.],\n",
       "        [0., 0., 0., ..., 0., 0., 0.],\n",
       "        ...,\n",
       "        [0., 0., 0., ..., 0., 0., 0.],\n",
       "        [0., 0., 0., ..., 0., 0., 0.],\n",
       "        [0., 0., 0., ..., 0., 0., 0.]],\n",
       "\n",
       "       [[0., 0., 0., ..., 0., 0., 0.],\n",
       "        [0., 0., 0., ..., 0., 0., 0.],\n",
       "        [0., 0., 0., ..., 0., 0., 0.],\n",
       "        ...,\n",
       "        [0., 0., 0., ..., 0., 0., 0.],\n",
       "        [0., 0., 0., ..., 0., 0., 0.],\n",
       "        [0., 0., 0., ..., 0., 0., 0.]]], dtype=float32)"
      ]
     },
     "execution_count": 123,
     "metadata": {},
     "output_type": "execute_result"
    }
   ],
   "source": [
    "np.nan_to_num(subhalomass_avg, copy=False,nan=0)"
   ]
  },
  {
   "cell_type": "code",
   "execution_count": 144,
   "id": "6612f4d4-1756-4b37-837e-53aee79a41d6",
   "metadata": {
    "execution": {
     "iopub.execute_input": "2021-10-25T04:33:18.742759Z",
     "iopub.status.busy": "2021-10-25T04:33:18.742481Z",
     "iopub.status.idle": "2021-10-25T04:33:21.272836Z",
     "shell.execute_reply": "2021-10-25T04:33:21.271212Z",
     "shell.execute_reply.started": "2021-10-25T04:33:18.742721Z"
    },
    "tags": []
   },
   "outputs": [
    {
     "data": {
      "text/plain": [
       "array([[[  0.       , -11.876677 ,   0.       , ...,   0.       ,\n",
       "           0.       ,   0.       ],\n",
       "        [-10.324741 , -11.677489 ,   0.       , ...,  -7.5857115,\n",
       "           0.       ,   0.       ],\n",
       "        [-10.690854 ,   0.       ,   0.       , ...,   0.       ,\n",
       "           0.       ,   0.       ],\n",
       "        ...,\n",
       "        [  0.       , -12.027234 , -23.363968 , ...,  -8.641777 ,\n",
       "           0.       ,   0.       ],\n",
       "        [-10.773733 ,   0.       , -14.361497 , ...,   0.       ,\n",
       "           0.       ,   0.       ],\n",
       "        [-10.596284 , -12.594373 , -13.635618 , ...,   0.       ,\n",
       "          -9.413936 ,   0.       ]],\n",
       "\n",
       "       [[  0.       , -11.243395 , -26.67489  , ...,  -7.3622723,\n",
       "           0.       ,   0.       ],\n",
       "        [  0.       ,   0.       , -16.954464 , ...,   0.       ,\n",
       "           0.       ,  -8.920744 ],\n",
       "        [  0.       ,   0.       , -21.248816 , ...,   0.       ,\n",
       "           0.       ,   0.       ],\n",
       "        ...,\n",
       "        [-19.856909 ,   0.       , -13.696912 , ...,   0.       ,\n",
       "           0.       ,   0.       ],\n",
       "        [-14.55268  , -20.768917 , -20.652832 , ...,   0.       ,\n",
       "          -9.305419 ,   0.       ],\n",
       "        [  0.       , -19.490107 , -22.145002 , ...,   0.       ,\n",
       "           0.       ,   0.       ]],\n",
       "\n",
       "       [[-15.791969 , -17.245996 , -26.384863 , ...,   0.       ,\n",
       "           0.       ,  -9.15979  ],\n",
       "        [  0.       , -20.137905 , -20.550114 , ...,   0.       ,\n",
       "           0.       ,  -9.131685 ],\n",
       "        [  0.       , -20.114536 , -19.803593 , ...,   0.       ,\n",
       "          -7.5458527,   0.       ],\n",
       "        ...,\n",
       "        [-15.093019 , -12.696554 , -25.486876 , ...,   0.       ,\n",
       "           0.       , -13.0638075],\n",
       "        [  0.       , -19.99475  , -26.168703 , ...,  -7.813626 ,\n",
       "           0.       , -19.21976  ],\n",
       "        [-14.975569 , -21.51085  , -27.966366 , ...,   0.       ,\n",
       "           0.       , -16.256641 ]],\n",
       "\n",
       "       ...,\n",
       "\n",
       "       [[  0.       ,   0.       ,   0.       , ...,  -9.273718 ,\n",
       "           0.       ,  -9.961146 ],\n",
       "        [  0.       ,   0.       , -12.2738695, ...,  -8.403826 ,\n",
       "           0.       ,   0.       ],\n",
       "        [  0.       ,   0.       ,   0.       , ...,   0.       ,\n",
       "           0.       ,   0.       ],\n",
       "        ...,\n",
       "        [  0.       ,   0.       ,   0.       , ...,   0.       ,\n",
       "           0.       ,   0.       ],\n",
       "        [  0.       ,   0.       ,   0.       , ...,   0.       ,\n",
       "           0.       ,   0.       ],\n",
       "        [-11.70461  ,   0.       , -13.560761 , ...,  -8.935054 ,\n",
       "           0.       ,   0.       ]],\n",
       "\n",
       "       [[  0.       ,   0.       ,   0.       , ...,  -8.843857 ,\n",
       "          -9.229026 , -10.188037 ],\n",
       "        [  0.       , -11.118852 ,   0.       , ...,   0.       ,\n",
       "           0.       ,   0.       ],\n",
       "        [  0.       ,   0.       ,   0.       , ...,   0.       ,\n",
       "          -8.451753 ,   0.       ],\n",
       "        ...,\n",
       "        [  0.       ,   0.       ,   0.       , ...,   0.       ,\n",
       "           0.       ,   0.       ],\n",
       "        [  0.       ,   0.       , -13.63488  , ...,  -9.461227 ,\n",
       "           0.       ,   0.       ],\n",
       "        [  0.       ,   0.       ,   0.       , ...,   0.       ,\n",
       "          -9.615675 ,   0.       ]],\n",
       "\n",
       "       [[  0.       ,   0.       ,   0.       , ...,  -8.087047 ,\n",
       "           0.       ,   0.       ],\n",
       "        [  0.       ,   0.       ,   0.       , ...,   0.       ,\n",
       "           0.       ,   0.       ],\n",
       "        [  0.       ,   0.       , -12.510458 , ...,  -6.9950514,\n",
       "           0.       ,   0.       ],\n",
       "        ...,\n",
       "        [  0.       ,   0.       ,   0.       , ...,   0.       ,\n",
       "           0.       ,   0.       ],\n",
       "        [-11.835941 ,   0.       ,   0.       , ...,  -9.280148 ,\n",
       "           0.       ,   0.       ],\n",
       "        [  0.       ,   0.       ,   0.       , ...,   0.       ,\n",
       "           0.       , -10.216363 ]]], dtype=float32)"
      ]
     },
     "execution_count": 144,
     "metadata": {},
     "output_type": "execute_result"
    }
   ],
   "source": [
    "np.nan_to_num(dmvelx_avg, copy=False, nan=0)"
   ]
  },
  {
   "cell_type": "code",
   "execution_count": 159,
   "id": "f425f643-14ce-4630-ae9f-bb660343b4c5",
   "metadata": {
    "execution": {
     "iopub.execute_input": "2021-10-25T06:25:17.886904Z",
     "iopub.status.busy": "2021-10-25T06:25:17.886617Z",
     "iopub.status.idle": "2021-10-25T06:25:19.367415Z",
     "shell.execute_reply": "2021-10-25T06:25:19.365836Z",
     "shell.execute_reply.started": "2021-10-25T06:25:17.886863Z"
    },
    "scrolled": true,
    "tags": []
   },
   "outputs": [
    {
     "name": "stderr",
     "output_type": "stream",
     "text": [
      "[ 2336601.00 ]   0: 10-25 14:25  matplotlib.ticker DEBUG    vmin 1.050158638068528 vmax 1500744.690248557\n",
      "[ 2336601.01 ]   0: 10-25 14:25  matplotlib.ticker DEBUG    ticklocs array([1.e-01, 1.e+00, 1.e+01, 1.e+02, 1.e+03, 1.e+04, 1.e+05, 1.e+06,\n",
      "       1.e+07, 1.e+08])\n",
      "[ 2336601.04 ]   0: 10-25 14:25  matplotlib.ticker DEBUG    vmin 1.050158638068528 vmax 1500744.690248557\n",
      "[ 2336601.04 ]   0: 10-25 14:25  matplotlib.ticker DEBUG    ticklocs array([1.e-01, 1.e+00, 1.e+01, 1.e+02, 1.e+03, 1.e+04, 1.e+05, 1.e+06,\n",
      "       1.e+07, 1.e+08])\n",
      "[ 2336601.04 ]   0: 10-25 14:25  matplotlib.ticker DEBUG    vmin 1.050158638068528 vmax 1500744.690248557\n",
      "[ 2336601.04 ]   0: 10-25 14:25  matplotlib.ticker DEBUG    ticklocs array([1.e-01, 1.e+00, 1.e+01, 1.e+02, 1.e+03, 1.e+04, 1.e+05, 1.e+06,\n",
      "       1.e+07, 1.e+08])\n",
      "[ 2336601.04 ]   0: 10-25 14:25  matplotlib.ticker DEBUG    vmin 1.050158638068528 vmax 1500744.690248557\n",
      "[ 2336601.05 ]   0: 10-25 14:25  matplotlib.ticker DEBUG    ticklocs array([2.e-01, 3.e-01, 4.e-01, 5.e-01, 6.e-01, 7.e-01, 8.e-01, 9.e-01,\n",
      "       2.e+00, 3.e+00, 4.e+00, 5.e+00, 6.e+00, 7.e+00, 8.e+00, 9.e+00,\n",
      "       2.e+01, 3.e+01, 4.e+01, 5.e+01, 6.e+01, 7.e+01, 8.e+01, 9.e+01,\n",
      "       2.e+02, 3.e+02, 4.e+02, 5.e+02, 6.e+02, 7.e+02, 8.e+02, 9.e+02,\n",
      "       2.e+03, 3.e+03, 4.e+03, 5.e+03, 6.e+03, 7.e+03, 8.e+03, 9.e+03,\n",
      "       2.e+04, 3.e+04, 4.e+04, 5.e+04, 6.e+04, 7.e+04, 8.e+04, 9.e+04,\n",
      "       2.e+05, 3.e+05, 4.e+05, 5.e+05, 6.e+05, 7.e+05, 8.e+05, 9.e+05,\n",
      "       2.e+06, 3.e+06, 4.e+06, 5.e+06, 6.e+06, 7.e+06, 8.e+06, 9.e+06,\n",
      "       2.e+07, 3.e+07, 4.e+07, 5.e+07, 6.e+07, 7.e+07, 8.e+07, 9.e+07,\n",
      "       2.e+08, 3.e+08, 4.e+08, 5.e+08, 6.e+08, 7.e+08, 8.e+08, 9.e+08])\n",
      "[ 2336601.25 ]   0: 10-25 14:25  matplotlib.ticker DEBUG    vmin 1.050158638068528 vmax 1500744.690248557\n",
      "[ 2336601.25 ]   0: 10-25 14:25  matplotlib.ticker DEBUG    ticklocs array([1.e-01, 1.e+00, 1.e+01, 1.e+02, 1.e+03, 1.e+04, 1.e+05, 1.e+06,\n",
      "       1.e+07, 1.e+08])\n",
      "[ 2336601.25 ]   0: 10-25 14:25  matplotlib.ticker DEBUG    vmin 1.050158638068528 vmax 1500744.690248557\n",
      "[ 2336601.25 ]   0: 10-25 14:25  matplotlib.ticker DEBUG    ticklocs array([1.e-01, 1.e+00, 1.e+01, 1.e+02, 1.e+03, 1.e+04, 1.e+05, 1.e+06,\n",
      "       1.e+07, 1.e+08])\n",
      "[ 2336601.25 ]   0: 10-25 14:25  matplotlib.ticker DEBUG    vmin 1.050158638068528 vmax 1500744.690248557\n",
      "[ 2336601.25 ]   0: 10-25 14:25  matplotlib.ticker DEBUG    ticklocs array([2.e-01, 3.e-01, 4.e-01, 5.e-01, 6.e-01, 7.e-01, 8.e-01, 9.e-01,\n",
      "       2.e+00, 3.e+00, 4.e+00, 5.e+00, 6.e+00, 7.e+00, 8.e+00, 9.e+00,\n",
      "       2.e+01, 3.e+01, 4.e+01, 5.e+01, 6.e+01, 7.e+01, 8.e+01, 9.e+01,\n",
      "       2.e+02, 3.e+02, 4.e+02, 5.e+02, 6.e+02, 7.e+02, 8.e+02, 9.e+02,\n",
      "       2.e+03, 3.e+03, 4.e+03, 5.e+03, 6.e+03, 7.e+03, 8.e+03, 9.e+03,\n",
      "       2.e+04, 3.e+04, 4.e+04, 5.e+04, 6.e+04, 7.e+04, 8.e+04, 9.e+04,\n",
      "       2.e+05, 3.e+05, 4.e+05, 5.e+05, 6.e+05, 7.e+05, 8.e+05, 9.e+05,\n",
      "       2.e+06, 3.e+06, 4.e+06, 5.e+06, 6.e+06, 7.e+06, 8.e+06, 9.e+06,\n",
      "       2.e+07, 3.e+07, 4.e+07, 5.e+07, 6.e+07, 7.e+07, 8.e+07, 9.e+07,\n",
      "       2.e+08, 3.e+08, 4.e+08, 5.e+08, 6.e+08, 7.e+08, 8.e+08, 9.e+08])\n",
      "[ 2336601.28 ]   0: 10-25 14:25  matplotlib.ticker DEBUG    vmin 1.050158638068528 vmax 1500744.690248557\n",
      "[ 2336601.29 ]   0: 10-25 14:25  matplotlib.ticker DEBUG    ticklocs array([1.e-01, 1.e+00, 1.e+01, 1.e+02, 1.e+03, 1.e+04, 1.e+05, 1.e+06,\n",
      "       1.e+07, 1.e+08])\n",
      "[ 2336601.29 ]   0: 10-25 14:25  matplotlib.ticker DEBUG    vmin 1.050158638068528 vmax 1500744.690248557\n",
      "[ 2336601.29 ]   0: 10-25 14:25  matplotlib.ticker DEBUG    ticklocs array([1.e-01, 1.e+00, 1.e+01, 1.e+02, 1.e+03, 1.e+04, 1.e+05, 1.e+06,\n",
      "       1.e+07, 1.e+08])\n",
      "[ 2336601.29 ]   0: 10-25 14:25  matplotlib.ticker DEBUG    vmin 1.050158638068528 vmax 1500744.690248557\n",
      "[ 2336601.29 ]   0: 10-25 14:25  matplotlib.ticker DEBUG    ticklocs array([2.e-01, 3.e-01, 4.e-01, 5.e-01, 6.e-01, 7.e-01, 8.e-01, 9.e-01,\n",
      "       2.e+00, 3.e+00, 4.e+00, 5.e+00, 6.e+00, 7.e+00, 8.e+00, 9.e+00,\n",
      "       2.e+01, 3.e+01, 4.e+01, 5.e+01, 6.e+01, 7.e+01, 8.e+01, 9.e+01,\n",
      "       2.e+02, 3.e+02, 4.e+02, 5.e+02, 6.e+02, 7.e+02, 8.e+02, 9.e+02,\n",
      "       2.e+03, 3.e+03, 4.e+03, 5.e+03, 6.e+03, 7.e+03, 8.e+03, 9.e+03,\n",
      "       2.e+04, 3.e+04, 4.e+04, 5.e+04, 6.e+04, 7.e+04, 8.e+04, 9.e+04,\n",
      "       2.e+05, 3.e+05, 4.e+05, 5.e+05, 6.e+05, 7.e+05, 8.e+05, 9.e+05,\n",
      "       2.e+06, 3.e+06, 4.e+06, 5.e+06, 6.e+06, 7.e+06, 8.e+06, 9.e+06,\n",
      "       2.e+07, 3.e+07, 4.e+07, 5.e+07, 6.e+07, 7.e+07, 8.e+07, 9.e+07,\n",
      "       2.e+08, 3.e+08, 4.e+08, 5.e+08, 6.e+08, 7.e+08, 8.e+08, 9.e+08])\n",
      "[ 2336601.31 ]   0: 10-25 14:25  matplotlib.ticker DEBUG    vmin 1.050158638068528 vmax 1500744.690248557\n",
      "[ 2336601.31 ]   0: 10-25 14:25  matplotlib.ticker DEBUG    ticklocs array([1.e-01, 1.e+00, 1.e+01, 1.e+02, 1.e+03, 1.e+04, 1.e+05, 1.e+06,\n",
      "       1.e+07, 1.e+08])\n",
      "[ 2336601.31 ]   0: 10-25 14:25  matplotlib.ticker DEBUG    vmin 1.050158638068528 vmax 1500744.690248557\n",
      "[ 2336601.31 ]   0: 10-25 14:25  matplotlib.ticker DEBUG    ticklocs array([1.e-01, 1.e+00, 1.e+01, 1.e+02, 1.e+03, 1.e+04, 1.e+05, 1.e+06,\n",
      "       1.e+07, 1.e+08])\n",
      "[ 2336601.31 ]   0: 10-25 14:25  matplotlib.ticker DEBUG    vmin 1.050158638068528 vmax 1500744.690248557\n",
      "[ 2336601.31 ]   0: 10-25 14:25  matplotlib.ticker DEBUG    ticklocs array([2.e-01, 3.e-01, 4.e-01, 5.e-01, 6.e-01, 7.e-01, 8.e-01, 9.e-01,\n",
      "       2.e+00, 3.e+00, 4.e+00, 5.e+00, 6.e+00, 7.e+00, 8.e+00, 9.e+00,\n",
      "       2.e+01, 3.e+01, 4.e+01, 5.e+01, 6.e+01, 7.e+01, 8.e+01, 9.e+01,\n",
      "       2.e+02, 3.e+02, 4.e+02, 5.e+02, 6.e+02, 7.e+02, 8.e+02, 9.e+02,\n",
      "       2.e+03, 3.e+03, 4.e+03, 5.e+03, 6.e+03, 7.e+03, 8.e+03, 9.e+03,\n",
      "       2.e+04, 3.e+04, 4.e+04, 5.e+04, 6.e+04, 7.e+04, 8.e+04, 9.e+04,\n",
      "       2.e+05, 3.e+05, 4.e+05, 5.e+05, 6.e+05, 7.e+05, 8.e+05, 9.e+05,\n",
      "       2.e+06, 3.e+06, 4.e+06, 5.e+06, 6.e+06, 7.e+06, 8.e+06, 9.e+06,\n",
      "       2.e+07, 3.e+07, 4.e+07, 5.e+07, 6.e+07, 7.e+07, 8.e+07, 9.e+07,\n",
      "       2.e+08, 3.e+08, 4.e+08, 5.e+08, 6.e+08, 7.e+08, 8.e+08, 9.e+08])\n",
      "[ 2336601.36 ]   0: 10-25 14:25  matplotlib.ticker DEBUG    vmin 1.050158638068528 vmax 1500744.690248557\n",
      "[ 2336601.36 ]   0: 10-25 14:25  matplotlib.ticker DEBUG    ticklocs array([1.e-01, 1.e+00, 1.e+01, 1.e+02, 1.e+03, 1.e+04, 1.e+05, 1.e+06,\n",
      "       1.e+07, 1.e+08])\n",
      "[ 2336601.37 ]   0: 10-25 14:25  matplotlib.ticker DEBUG    vmin 1.050158638068528 vmax 1500744.690248557\n",
      "[ 2336601.37 ]   0: 10-25 14:25  matplotlib.ticker DEBUG    ticklocs array([1.e-01, 1.e+00, 1.e+01, 1.e+02, 1.e+03, 1.e+04, 1.e+05, 1.e+06,\n",
      "       1.e+07, 1.e+08])\n",
      "[ 2336601.37 ]   0: 10-25 14:25  matplotlib.ticker DEBUG    vmin 1.050158638068528 vmax 1500744.690248557\n",
      "[ 2336601.37 ]   0: 10-25 14:25  matplotlib.ticker DEBUG    ticklocs array([2.e-01, 3.e-01, 4.e-01, 5.e-01, 6.e-01, 7.e-01, 8.e-01, 9.e-01,\n",
      "       2.e+00, 3.e+00, 4.e+00, 5.e+00, 6.e+00, 7.e+00, 8.e+00, 9.e+00,\n",
      "       2.e+01, 3.e+01, 4.e+01, 5.e+01, 6.e+01, 7.e+01, 8.e+01, 9.e+01,\n",
      "       2.e+02, 3.e+02, 4.e+02, 5.e+02, 6.e+02, 7.e+02, 8.e+02, 9.e+02,\n",
      "       2.e+03, 3.e+03, 4.e+03, 5.e+03, 6.e+03, 7.e+03, 8.e+03, 9.e+03,\n",
      "       2.e+04, 3.e+04, 4.e+04, 5.e+04, 6.e+04, 7.e+04, 8.e+04, 9.e+04,\n",
      "       2.e+05, 3.e+05, 4.e+05, 5.e+05, 6.e+05, 7.e+05, 8.e+05, 9.e+05,\n",
      "       2.e+06, 3.e+06, 4.e+06, 5.e+06, 6.e+06, 7.e+06, 8.e+06, 9.e+06,\n",
      "       2.e+07, 3.e+07, 4.e+07, 5.e+07, 6.e+07, 7.e+07, 8.e+07, 9.e+07,\n",
      "       2.e+08, 3.e+08, 4.e+08, 5.e+08, 6.e+08, 7.e+08, 8.e+08, 9.e+08])\n",
      "[ 2336601.38 ]   0: 10-25 14:25  matplotlib.ticker DEBUG    vmin 1.050158638068528 vmax 1500744.690248557\n",
      "[ 2336601.39 ]   0: 10-25 14:25  matplotlib.ticker DEBUG    ticklocs array([1.e-01, 1.e+00, 1.e+01, 1.e+02, 1.e+03, 1.e+04, 1.e+05, 1.e+06,\n",
      "       1.e+07, 1.e+08])\n",
      "[ 2336601.39 ]   0: 10-25 14:25  matplotlib.ticker DEBUG    vmin 1.050158638068528 vmax 1500744.690248557\n",
      "[ 2336601.39 ]   0: 10-25 14:25  matplotlib.ticker DEBUG    ticklocs array([1.e-01, 1.e+00, 1.e+01, 1.e+02, 1.e+03, 1.e+04, 1.e+05, 1.e+06,\n",
      "       1.e+07, 1.e+08])\n",
      "[ 2336601.39 ]   0: 10-25 14:25  matplotlib.ticker DEBUG    vmin 1.050158638068528 vmax 1500744.690248557\n",
      "[ 2336601.39 ]   0: 10-25 14:25  matplotlib.ticker DEBUG    ticklocs array([2.e-01, 3.e-01, 4.e-01, 5.e-01, 6.e-01, 7.e-01, 8.e-01, 9.e-01,\n",
      "       2.e+00, 3.e+00, 4.e+00, 5.e+00, 6.e+00, 7.e+00, 8.e+00, 9.e+00,\n",
      "       2.e+01, 3.e+01, 4.e+01, 5.e+01, 6.e+01, 7.e+01, 8.e+01, 9.e+01,\n",
      "       2.e+02, 3.e+02, 4.e+02, 5.e+02, 6.e+02, 7.e+02, 8.e+02, 9.e+02,\n",
      "       2.e+03, 3.e+03, 4.e+03, 5.e+03, 6.e+03, 7.e+03, 8.e+03, 9.e+03,\n",
      "       2.e+04, 3.e+04, 4.e+04, 5.e+04, 6.e+04, 7.e+04, 8.e+04, 9.e+04,\n",
      "       2.e+05, 3.e+05, 4.e+05, 5.e+05, 6.e+05, 7.e+05, 8.e+05, 9.e+05,\n",
      "       2.e+06, 3.e+06, 4.e+06, 5.e+06, 6.e+06, 7.e+06, 8.e+06, 9.e+06,\n",
      "       2.e+07, 3.e+07, 4.e+07, 5.e+07, 6.e+07, 7.e+07, 8.e+07, 9.e+07,\n",
      "       2.e+08, 3.e+08, 4.e+08, 5.e+08, 6.e+08, 7.e+08, 8.e+08, 9.e+08])\n",
      "[ 2336601.43 ]   0: 10-25 14:25  matplotlib.ticker DEBUG    vmin 1.050158638068528 vmax 1500744.690248557\n",
      "[ 2336601.43 ]   0: 10-25 14:25  matplotlib.ticker DEBUG    ticklocs array([1.e-01, 1.e+00, 1.e+01, 1.e+02, 1.e+03, 1.e+04, 1.e+05, 1.e+06,\n",
      "       1.e+07, 1.e+08])\n",
      "[ 2336601.43 ]   0: 10-25 14:25  matplotlib.ticker DEBUG    vmin 1.050158638068528 vmax 1500744.690248557\n",
      "[ 2336601.43 ]   0: 10-25 14:25  matplotlib.ticker DEBUG    ticklocs array([1.e-01, 1.e+00, 1.e+01, 1.e+02, 1.e+03, 1.e+04, 1.e+05, 1.e+06,\n",
      "       1.e+07, 1.e+08])\n",
      "[ 2336601.43 ]   0: 10-25 14:25  matplotlib.ticker DEBUG    vmin 1.050158638068528 vmax 1500744.690248557\n",
      "[ 2336601.44 ]   0: 10-25 14:25  matplotlib.ticker DEBUG    ticklocs array([2.e-01, 3.e-01, 4.e-01, 5.e-01, 6.e-01, 7.e-01, 8.e-01, 9.e-01,\n",
      "       2.e+00, 3.e+00, 4.e+00, 5.e+00, 6.e+00, 7.e+00, 8.e+00, 9.e+00,\n",
      "       2.e+01, 3.e+01, 4.e+01, 5.e+01, 6.e+01, 7.e+01, 8.e+01, 9.e+01,\n",
      "       2.e+02, 3.e+02, 4.e+02, 5.e+02, 6.e+02, 7.e+02, 8.e+02, 9.e+02,\n",
      "       2.e+03, 3.e+03, 4.e+03, 5.e+03, 6.e+03, 7.e+03, 8.e+03, 9.e+03,\n",
      "       2.e+04, 3.e+04, 4.e+04, 5.e+04, 6.e+04, 7.e+04, 8.e+04, 9.e+04,\n",
      "       2.e+05, 3.e+05, 4.e+05, 5.e+05, 6.e+05, 7.e+05, 8.e+05, 9.e+05,\n",
      "       2.e+06, 3.e+06, 4.e+06, 5.e+06, 6.e+06, 7.e+06, 8.e+06, 9.e+06,\n",
      "       2.e+07, 3.e+07, 4.e+07, 5.e+07, 6.e+07, 7.e+07, 8.e+07, 9.e+07,\n",
      "       2.e+08, 3.e+08, 4.e+08, 5.e+08, 6.e+08, 7.e+08, 8.e+08, 9.e+08])\n",
      "[ 2336601.45 ]   0: 10-25 14:25  matplotlib.ticker DEBUG    vmin 1.050158638068528 vmax 1500744.690248557\n",
      "[ 2336601.45 ]   0: 10-25 14:25  matplotlib.ticker DEBUG    ticklocs array([1.e-01, 1.e+00, 1.e+01, 1.e+02, 1.e+03, 1.e+04, 1.e+05, 1.e+06,\n",
      "       1.e+07, 1.e+08])\n",
      "[ 2336601.45 ]   0: 10-25 14:25  matplotlib.ticker DEBUG    vmin 1.050158638068528 vmax 1500744.690248557\n",
      "[ 2336601.46 ]   0: 10-25 14:25  matplotlib.ticker DEBUG    ticklocs array([1.e-01, 1.e+00, 1.e+01, 1.e+02, 1.e+03, 1.e+04, 1.e+05, 1.e+06,\n",
      "       1.e+07, 1.e+08])\n",
      "[ 2336601.46 ]   0: 10-25 14:25  matplotlib.ticker DEBUG    vmin 1.050158638068528 vmax 1500744.690248557\n",
      "[ 2336601.46 ]   0: 10-25 14:25  matplotlib.ticker DEBUG    ticklocs array([2.e-01, 3.e-01, 4.e-01, 5.e-01, 6.e-01, 7.e-01, 8.e-01, 9.e-01,\n",
      "       2.e+00, 3.e+00, 4.e+00, 5.e+00, 6.e+00, 7.e+00, 8.e+00, 9.e+00,\n",
      "       2.e+01, 3.e+01, 4.e+01, 5.e+01, 6.e+01, 7.e+01, 8.e+01, 9.e+01,\n",
      "       2.e+02, 3.e+02, 4.e+02, 5.e+02, 6.e+02, 7.e+02, 8.e+02, 9.e+02,\n",
      "       2.e+03, 3.e+03, 4.e+03, 5.e+03, 6.e+03, 7.e+03, 8.e+03, 9.e+03,\n",
      "       2.e+04, 3.e+04, 4.e+04, 5.e+04, 6.e+04, 7.e+04, 8.e+04, 9.e+04,\n",
      "       2.e+05, 3.e+05, 4.e+05, 5.e+05, 6.e+05, 7.e+05, 8.e+05, 9.e+05,\n",
      "       2.e+06, 3.e+06, 4.e+06, 5.e+06, 6.e+06, 7.e+06, 8.e+06, 9.e+06,\n",
      "       2.e+07, 3.e+07, 4.e+07, 5.e+07, 6.e+07, 7.e+07, 8.e+07, 9.e+07,\n",
      "       2.e+08, 3.e+08, 4.e+08, 5.e+08, 6.e+08, 7.e+08, 8.e+08, 9.e+08])\n",
      "[ 2336601.52 ]   0: 10-25 14:25  matplotlib.ticker DEBUG    vmin 1.050158638068528 vmax 1500744.690248557\n",
      "[ 2336601.52 ]   0: 10-25 14:25  matplotlib.ticker DEBUG    ticklocs array([1.e-01, 1.e+00, 1.e+01, 1.e+02, 1.e+03, 1.e+04, 1.e+05, 1.e+06,\n",
      "       1.e+07, 1.e+08])\n",
      "[ 2336601.52 ]   0: 10-25 14:25  matplotlib.ticker DEBUG    vmin 1.050158638068528 vmax 1500744.690248557\n",
      "[ 2336601.52 ]   0: 10-25 14:25  matplotlib.ticker DEBUG    ticklocs array([1.e-01, 1.e+00, 1.e+01, 1.e+02, 1.e+03, 1.e+04, 1.e+05, 1.e+06,\n",
      "       1.e+07, 1.e+08])\n",
      "[ 2336601.52 ]   0: 10-25 14:25  matplotlib.ticker DEBUG    vmin 1.050158638068528 vmax 1500744.690248557\n",
      "[ 2336601.53 ]   0: 10-25 14:25  matplotlib.ticker DEBUG    ticklocs array([2.e-01, 3.e-01, 4.e-01, 5.e-01, 6.e-01, 7.e-01, 8.e-01, 9.e-01,\n",
      "       2.e+00, 3.e+00, 4.e+00, 5.e+00, 6.e+00, 7.e+00, 8.e+00, 9.e+00,\n",
      "       2.e+01, 3.e+01, 4.e+01, 5.e+01, 6.e+01, 7.e+01, 8.e+01, 9.e+01,\n",
      "       2.e+02, 3.e+02, 4.e+02, 5.e+02, 6.e+02, 7.e+02, 8.e+02, 9.e+02,\n",
      "       2.e+03, 3.e+03, 4.e+03, 5.e+03, 6.e+03, 7.e+03, 8.e+03, 9.e+03,\n",
      "       2.e+04, 3.e+04, 4.e+04, 5.e+04, 6.e+04, 7.e+04, 8.e+04, 9.e+04,\n",
      "       2.e+05, 3.e+05, 4.e+05, 5.e+05, 6.e+05, 7.e+05, 8.e+05, 9.e+05,\n",
      "       2.e+06, 3.e+06, 4.e+06, 5.e+06, 6.e+06, 7.e+06, 8.e+06, 9.e+06,\n",
      "       2.e+07, 3.e+07, 4.e+07, 5.e+07, 6.e+07, 7.e+07, 8.e+07, 9.e+07,\n",
      "       2.e+08, 3.e+08, 4.e+08, 5.e+08, 6.e+08, 7.e+08, 8.e+08, 9.e+08])\n",
      "[ 2336601.61 ]   0: 10-25 14:25  matplotlib.ticker DEBUG    vmin 1.050158638068528 vmax 1500744.690248557\n",
      "[ 2336601.61 ]   0: 10-25 14:25  matplotlib.ticker DEBUG    ticklocs array([1.e-01, 1.e+00, 1.e+01, 1.e+02, 1.e+03, 1.e+04, 1.e+05, 1.e+06,\n",
      "       1.e+07, 1.e+08])\n",
      "[ 2336601.61 ]   0: 10-25 14:25  matplotlib.ticker DEBUG    vmin 1.050158638068528 vmax 1500744.690248557\n",
      "[ 2336601.61 ]   0: 10-25 14:25  matplotlib.ticker DEBUG    ticklocs array([1.e-01, 1.e+00, 1.e+01, 1.e+02, 1.e+03, 1.e+04, 1.e+05, 1.e+06,\n",
      "       1.e+07, 1.e+08])\n",
      "[ 2336601.62 ]   0: 10-25 14:25  matplotlib.ticker DEBUG    vmin 1.050158638068528 vmax 1500744.690248557\n",
      "[ 2336601.62 ]   0: 10-25 14:25  matplotlib.ticker DEBUG    ticklocs array([2.e-01, 3.e-01, 4.e-01, 5.e-01, 6.e-01, 7.e-01, 8.e-01, 9.e-01,\n",
      "       2.e+00, 3.e+00, 4.e+00, 5.e+00, 6.e+00, 7.e+00, 8.e+00, 9.e+00,\n",
      "       2.e+01, 3.e+01, 4.e+01, 5.e+01, 6.e+01, 7.e+01, 8.e+01, 9.e+01,\n",
      "       2.e+02, 3.e+02, 4.e+02, 5.e+02, 6.e+02, 7.e+02, 8.e+02, 9.e+02,\n",
      "       2.e+03, 3.e+03, 4.e+03, 5.e+03, 6.e+03, 7.e+03, 8.e+03, 9.e+03,\n",
      "       2.e+04, 3.e+04, 4.e+04, 5.e+04, 6.e+04, 7.e+04, 8.e+04, 9.e+04,\n",
      "       2.e+05, 3.e+05, 4.e+05, 5.e+05, 6.e+05, 7.e+05, 8.e+05, 9.e+05,\n",
      "       2.e+06, 3.e+06, 4.e+06, 5.e+06, 6.e+06, 7.e+06, 8.e+06, 9.e+06,\n",
      "       2.e+07, 3.e+07, 4.e+07, 5.e+07, 6.e+07, 7.e+07, 8.e+07, 9.e+07,\n",
      "       2.e+08, 3.e+08, 4.e+08, 5.e+08, 6.e+08, 7.e+08, 8.e+08, 9.e+08])\n"
     ]
    },
    {
     "data": {
      "image/png": "[encoded data removed]",
      "text/plain": [
       "<Figure size 432x288 with 1 Axes>"
      ]
     },
     "metadata": {
      "needs_background": "light"
     },
     "output_type": "display_data"
    }
   ],
   "source": [
    "# plt.hist(np.log10(subhalomass_avg[subhalomass_avg!=0]),bins=10)\n",
    "plt.hist(subhalomass_avg[subhalomass_avg!=0])\n",
    "# plt.xscale('log')\n",
    "plt.yscale('log')\n",
    "plt.show()"
   ]
  },
  {
   "cell_type": "code",
   "execution_count": 153,
   "id": "405a3fac-d5fa-4155-9917-7aabea95d175",
   "metadata": {
    "execution": {
     "iopub.execute_input": "2021-10-25T05:20:28.381406Z",
     "iopub.status.busy": "2021-10-25T05:20:28.381140Z",
     "iopub.status.idle": "2021-10-25T05:20:31.336813Z",
     "shell.execute_reply": "2021-10-25T05:20:31.335281Z",
     "shell.execute_reply.started": "2021-10-25T05:20:28.381367Z"
    },
    "scrolled": true,
    "tags": []
   },
   "outputs": [
    {
     "data": {
      "image/png": "[encoded data removed]",
      "text/plain": [
       "<Figure size 432x288 with 1 Axes>"
      ]
     },
     "metadata": {
      "needs_background": "light"
     },
     "output_type": "display_data"
    }
   ],
   "source": [
    "plt.hist(np.log10(dmvelx_avg[dmvelx_avg>0]),bins=10)\n",
    "# plt.hist(dmvelx_avg.ravel(),bins=10)\n",
    "# plt.xscale('log')\n",
    "# plt.yscale('log')\n",
    "plt.show()"
   ]
  },
  {
   "cell_type": "code",
   "execution_count": 117,
   "id": "16ccf835-e7fe-4b68-8704-0652495a49b2",
   "metadata": {
    "execution": {
     "iopub.execute_input": "2021-10-25T03:50:57.476497Z",
     "iopub.status.busy": "2021-10-25T03:50:57.476214Z",
     "iopub.status.idle": "2021-10-25T03:50:57.562739Z",
     "shell.execute_reply": "2021-10-25T03:50:57.561200Z",
     "shell.execute_reply.started": "2021-10-25T03:50:57.476459Z"
    },
    "tags": []
   },
   "outputs": [
    {
     "data": {
      "text/plain": [
       "4170526.8"
      ]
     },
     "execution_count": 117,
     "metadata": {},
     "output_type": "execute_result"
    }
   ],
   "source": [
    "tmp.max()"
   ]
  },
  {
   "cell_type": "code",
   "execution_count": 105,
   "id": "e2d38904-5f58-4b3d-b8ef-8ebd5c71b28c",
   "metadata": {
    "execution": {
     "iopub.execute_input": "2021-10-25T03:21:38.289367Z",
     "iopub.status.busy": "2021-10-25T03:21:38.288755Z",
     "iopub.status.idle": "2021-10-25T03:21:39.201974Z",
     "shell.execute_reply": "2021-10-25T03:21:39.200382Z",
     "shell.execute_reply.started": "2021-10-25T03:21:38.289313Z"
    },
    "tags": []
   },
   "outputs": [
    {
     "name": "stderr",
     "output_type": "stream",
     "text": [
      "<ipython-input-105-4dcd6f7b1348>:1: RuntimeWarning: invalid value encountered in true_divide\n",
      "  np.divide(tmp1,tmp2)\n"
     ]
    },
    {
     "data": {
      "text/plain": [
       "array([[[nan, nan, nan, ..., nan, nan, nan],\n",
       "        [nan, nan, nan, ..., nan, nan, nan],\n",
       "        [nan, nan, nan, ..., nan, nan, nan],\n",
       "        ...,\n",
       "        [nan, nan, nan, ..., nan, nan, nan],\n",
       "        [nan, nan, nan, ..., nan, nan, nan],\n",
       "        [nan, nan, nan, ..., nan, nan, nan]],\n",
       "\n",
       "       [[nan, nan, nan, ..., nan, nan, nan],\n",
       "        [nan, nan, nan, ..., nan, nan, nan],\n",
       "        [nan, nan, nan, ..., nan, nan, nan],\n",
       "        ...,\n",
       "        [nan, nan, nan, ..., nan, nan, nan],\n",
       "        [nan, nan, nan, ..., nan, nan, nan],\n",
       "        [nan, nan, nan, ..., nan, nan, nan]],\n",
       "\n",
       "       [[nan, nan, nan, ..., nan, nan, nan],\n",
       "        [nan, nan, nan, ..., nan, nan, nan],\n",
       "        [nan, nan, nan, ..., nan, nan, nan],\n",
       "        ...,\n",
       "        [nan, nan, nan, ..., nan, nan, nan],\n",
       "        [nan, nan, nan, ..., nan, nan, nan],\n",
       "        [nan, nan, nan, ..., nan, nan, nan]],\n",
       "\n",
       "       ...,\n",
       "\n",
       "       [[nan, nan, nan, ..., nan, nan, nan],\n",
       "        [nan, nan, nan, ..., nan, nan, nan],\n",
       "        [nan, nan, nan, ..., nan, nan, nan],\n",
       "        ...,\n",
       "        [nan, nan, nan, ..., nan, nan, nan],\n",
       "        [nan, nan, nan, ..., nan, nan, nan],\n",
       "        [nan, nan, nan, ..., nan, nan, nan]],\n",
       "\n",
       "       [[nan, nan, nan, ..., nan, nan, nan],\n",
       "        [nan, nan, nan, ..., nan, nan, nan],\n",
       "        [nan, nan, nan, ..., nan, nan, nan],\n",
       "        ...,\n",
       "        [nan, nan, nan, ..., nan, nan, nan],\n",
       "        [nan, nan, nan, ..., nan, nan, nan],\n",
       "        [nan, nan, nan, ..., nan, nan, nan]],\n",
       "\n",
       "       [[nan, nan, nan, ..., nan, nan, nan],\n",
       "        [nan, nan, nan, ..., nan, nan, nan],\n",
       "        [nan, nan, nan, ..., nan, nan, nan],\n",
       "        ...,\n",
       "        [nan, nan, nan, ..., nan, nan, nan],\n",
       "        [nan, nan, nan, ..., nan, nan, nan],\n",
       "        [nan, nan, nan, ..., nan, nan, nan]]], dtype=float32)"
      ]
     },
     "execution_count": 105,
     "metadata": {},
     "output_type": "execute_result"
    }
   ],
   "source": [
    "np.divide(tmp1,tmp2)"
   ]
  }
 ],
 "metadata": {
  "kernelspec": {
   "display_name": "pytorch",
   "language": "python",
   "name": "pytorch"
  },
  "language_info": {
   "codemirror_mode": {
    "name": "ipython",
    "version": 3
   },
   "file_extension": ".py",
   "mimetype": "text/x-python",
   "name": "python",
   "nbconvert_exporter": "python",
   "pygments_lexer": "ipython3",
   "version": "3.8.8"
  }
 },
 "nbformat": 4,
 "nbformat_minor": 5
}
