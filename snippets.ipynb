{
 "cells": [
  {
   "cell_type": "code",
   "execution_count": null,
   "id": "a143abcf-ff42-4be2-80b5-e73d784ee2fa",
   "metadata": {},
   "outputs": [],
   "source": [
    "'''生成网格数组\n",
    "(x,y,z) 相互组合，若每条边分3份，则一共27个。\n",
    "'''\n",
    "lala = list(itertools.product(range(1,4),repeat=3))\n",
    "lala = np.indices((3, 3, 3))"
   ]
  },
  {
   "cell_type": "code",
   "execution_count": 87,
   "id": "9a09a2f3-8337-48d1-8464-9ca2319bf56d",
   "metadata": {
    "execution": {
     "iopub.execute_input": "2021-09-26T06:42:10.924890Z",
     "iopub.status.busy": "2021-09-26T06:42:10.924683Z",
     "iopub.status.idle": "2021-09-26T06:42:10.928146Z",
     "shell.execute_reply": "2021-09-26T06:42:10.927551Z",
     "shell.execute_reply.started": "2021-09-26T06:42:10.924865Z"
    },
    "tags": []
   },
   "outputs": [],
   "source": [
    "'''pandas 用法'''\n",
    "'''初始化赋值'''\n",
    "pos = pd.DataFrame()\n",
    "pos['idx'] = np.arange(lala.shape[0])\n",
    "pos['x'] = lala[:,0]\n",
    "pos['y'] = lala[:,1]\n",
    "pos['z'] = lala[:,2]\n",
    "pos['x'],pos['y'],pos['z']=np.hsplit(lala,3)\n",
    "\n",
    "'''切片取值\n",
    "'''\n",
    "lala[22:33]  # 局限性较大，不能够直接取除特定的index组合\n",
    "lala['x'][22:33]  # 使用 series来切\n",
    "lala['x'][[11,22,33]]\n",
    "\n",
    "'''loc[]\n",
    "第一个参数表示行，第二个表示列\n",
    "第一个参数会被看作为字符串，即使填写666，也是按照str(666)来检索\n",
    "'''\n",
    "lala.loc[22:33,'x']\n",
    "lala.loc[:,['x','y','z']]\n",
    "\n",
    "'''iloc[]\n",
    "第一个参数：行；第二个参数：列\n",
    "都必须为数字，表示真实的index\n",
    "'''\n",
    "lala.iloc[22:33,5]\n",
    "lala.iloc[22:33,columns.get_loc('x')]\n",
    "\n"
   ]
  },
  {
   "cell_type": "code",
   "execution_count": 33,
   "id": "2fd5469a-a57c-4625-8935-993af0d9464d",
   "metadata": {
    "execution": {
     "iopub.execute_input": "2021-09-25T13:24:28.842455Z",
     "iopub.status.busy": "2021-09-25T13:24:28.842238Z",
     "iopub.status.idle": "2021-09-25T13:24:28.846662Z",
     "shell.execute_reply": "2021-09-25T13:24:28.846098Z",
     "shell.execute_reply.started": "2021-09-25T13:24:28.842428Z"
    },
    "tags": []
   },
   "outputs": [
    {
     "data": {
      "text/plain": [
       "array([False, False,  True, False, False,  True, False, False,  True,\n",
       "       False, False,  True, False, False,  True, False, False,  True,\n",
       "       False, False,  True, False, False,  True, False, False,  True])"
      ]
     },
     "execution_count": 33,
     "metadata": {},
     "output_type": "execute_result"
    }
   ],
   "source": [
    "'''numpy数组求交集\n",
    "使用 assume_unique=True 会提速\n",
    "'''\n",
    "np.intersect1d(ar1, ar2, assume_unique=True)\n"
   ]
  },
  {
   "cell_type": "code",
   "execution_count": null,
   "id": "b0d51457-6b86-4ad3-a330-acf8ee52a3f1",
   "metadata": {},
   "outputs": [],
   "source": [
    "'''multiprocessing 并行\n",
    "'''\n",
    "#************************************************************************************\n",
    "# start multi-run\n",
    "import warnings\n",
    "from multiprocessing import Pool\n",
    "from time import time\n",
    "warnings.filterwarnings('ignore')    # Do Not see warnings\n",
    "\n",
    "pool = Pool(processes=10)\n",
    "time_start = time()\n",
    "\n",
    "snapshot_data = list(pool.map(\n",
    "    _par_match,\n",
    "    range(SUBHALO_NUM)\n",
    "))\n",
    "\n",
    "pool.close() # shut down the process\n",
    "pool.join()\n",
    "print(f\"Done in {time() - time_start} second\")\n",
    "#************************************************************************************"
   ]
  },
  {
   "cell_type": "markdown",
   "id": "faf89aad-8e09-465f-95ee-7b6d653a5a8f",
   "metadata": {},
   "source": [
    "feather 保存读取 pd.Dataframe"
   ]
  },
  {
   "cell_type": "code",
   "execution_count": null,
   "id": "d3777331-95f6-46a6-a363-f5e71bf4cb8d",
   "metadata": {},
   "outputs": [],
   "source": [
    "import pyarrow.feather as feather\n",
    "\n",
    "# save to disk\n",
    "feather.write_feather(dm_df, \"./tmp_save/TNG-50-hydro-z0-dm-snap.df.feather\")\n",
    "\n",
    "# read from disk\n",
    "dm_df = feather.read_feather(\"./tmp_save/TNG-50-hydro-z0-dm-snap.df.feather\")"
   ]
  }
 ],
 "metadata": {
  "kernelspec": {
   "display_name": "pytorch",
   "language": "python",
   "name": "pytorch"
  },
  "language_info": {
   "codemirror_mode": {
    "name": "ipython",
    "version": 3
   },
   "file_extension": ".py",
   "mimetype": "text/x-python",
   "name": "python",
   "nbconvert_exporter": "python",
   "pygments_lexer": "ipython3",
   "version": "3.8.8"
  }
 },
 "nbformat": 4,
 "nbformat_minor": 5
}
